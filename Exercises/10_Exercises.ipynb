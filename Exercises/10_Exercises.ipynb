{
  "nbformat": 4,
  "nbformat_minor": 0,
  "metadata": {
    "kernelspec": {
      "display_name": "Python 3",
      "language": "python",
      "name": "python3"
    },
    "language_info": {
      "codemirror_mode": {
        "name": "ipython",
        "version": 3
      },
      "file_extension": ".py",
      "mimetype": "text/x-python",
      "name": "python",
      "nbconvert_exporter": "python",
      "pygments_lexer": "ipython3",
      "version": "3.8.5"
    },
    "colab": {
      "name": "Copy of 10 Exercises.ipynb",
      "provenance": [],
      "collapsed_sections": []
    }
  },
  "cells": [
    {
      "cell_type": "markdown",
      "metadata": {
        "id": "U-9mj2J4kZmb"
      },
      "source": [
        "## Exercise 10.1 (search)\n",
        "\n",
        "We want to find the largest and smallest values in a long list of numbers. Implement\n",
        "two algorithms, based on:\n",
        "\n",
        "1. Iterating over the list entries; and \n",
        "1. First applying a built-in sort operation to the list.\n",
        "\n",
        "Encapsulate each algorithm in a function. To create lists of numbers for testing use, for example:\n",
        "```python\n",
        "x = np.random.rand(1000)\n",
        "```"
      ]
    },
    {
      "cell_type": "markdown",
      "metadata": {
        "id": "viYbwGTPkZmj"
      },
      "source": [
        "### Solution\n",
        "\n",
        "We first create the list of random numbers"
      ]
    },
    {
      "cell_type": "code",
      "metadata": {
        "id": "rPx6KEaOkZmk"
      },
      "source": [
        "import numpy as np\n",
        "x = np.random.rand(1000)"
      ],
      "execution_count": null,
      "outputs": []
    },
    {
      "cell_type": "markdown",
      "metadata": {
        "id": "LmWHMDP_kZmo"
      },
      "source": [
        "#### Approach 1"
      ]
    },
    {
      "cell_type": "code",
      "metadata": {
        "deletable": false,
        "nbgrader": {
          "cell_type": "code",
          "checksum": "43178ff8d1756660a5dcafc73a085a11",
          "grade": false,
          "grade_id": "cell-78de0384c89f8cd3",
          "locked": false,
          "schema_version": 3,
          "solution": true
        },
        "id": "KIZeHrjGkZmp",
        "colab": {
          "base_uri": "https://localhost:8080/"
        },
        "outputId": "de2799c6-4fb1-4af9-b139-c626417c9b43"
      },
      "source": [
        "import numpy as np\n",
        "x = np.random.rand(100)\n",
        "\n",
        "def min_max1(x):\n",
        "    x_min = x[0]\n",
        "    x_max = x[0]\n",
        "    for number in x[1:]:\n",
        "      if number > x_max:\n",
        "        x_max = number\n",
        "      if number < x_min:\n",
        "        x_min = number\n",
        "    return  x_min, x_max\n",
        "    \n",
        "print(min_max1(x))"
      ],
      "execution_count": null,
      "outputs": [
        {
          "output_type": "stream",
          "name": "stdout",
          "text": [
            "(0.014954099875722382, 0.992172774760019)\n"
          ]
        }
      ]
    },
    {
      "cell_type": "markdown",
      "metadata": {
        "id": "n5c_RTOMkZmq"
      },
      "source": [
        "#### Approach 2"
      ]
    },
    {
      "cell_type": "code",
      "metadata": {
        "deletable": false,
        "nbgrader": {
          "cell_type": "code",
          "checksum": "7e7695c3d6d4b78df21b7726c26d0d14",
          "grade": false,
          "grade_id": "cell-dfd666bf7428bcdc",
          "locked": false,
          "schema_version": 3,
          "solution": true
        },
        "id": "dxFMa7yYkZmr",
        "colab": {
          "base_uri": "https://localhost:8080/"
        },
        "outputId": "46187eac-2e5a-4bb8-b18b-d360ae05acd1"
      },
      "source": [
        "def min_max2(x):\n",
        "    x.sort()\n",
        "    x_min = x[0]\n",
        "    x_max = x[-1]\n",
        "    return  x_min, x_max\n",
        "\n",
        "print(min_max2(x))"
      ],
      "execution_count": null,
      "outputs": [
        {
          "output_type": "stream",
          "name": "stdout",
          "text": [
            "(0.014954099875722382, 0.992172774760019)\n"
          ]
        }
      ]
    },
    {
      "cell_type": "code",
      "metadata": {
        "deletable": false,
        "editable": false,
        "nbgrader": {
          "cell_type": "code",
          "checksum": "1fb0c38ddcfcd2759b42e913ab624f34",
          "grade": true,
          "grade_id": "cell-1fa6054c191acd87",
          "locked": true,
          "points": 0,
          "schema_version": 3,
          "solution": false
        },
        "id": "93EJjXK2kZmt"
      },
      "source": [
        "assert min_max1(x) == min_max2(x)"
      ],
      "execution_count": null,
      "outputs": []
    },
    {
      "cell_type": "markdown",
      "metadata": {
        "id": "fmQ90-pQkZmu"
      },
      "source": [
        "In practice, we would use the the NumPy function:"
      ]
    },
    {
      "cell_type": "code",
      "metadata": {
        "id": "44B_ec1ykZmv",
        "colab": {
          "base_uri": "https://localhost:8080/"
        },
        "outputId": "7c8564ac-60d3-4f28-fe88-e48b6c7be272"
      },
      "source": [
        "print(np.min(x), np.max(x))"
      ],
      "execution_count": null,
      "outputs": [
        {
          "output_type": "stream",
          "name": "stdout",
          "text": [
            "0.014954099875722382 0.992172774760019\n"
          ]
        }
      ]
    },
    {
      "cell_type": "markdown",
      "metadata": {
        "id": "8tT7t_dskZmw"
      },
      "source": [
        "## Exercise 10.2 (Newton's method for root finding)\n",
        "\n",
        "### Background\n",
        "\n",
        "Newton's method can be used to find a root $x$ of a function $f(x)$ such that\n",
        "$$\n",
        "f(x) = 0\n",
        "$$\n",
        "A Taylor series expansion of $f$ about $x_{i}$ reads:\n",
        "$$\n",
        "f(x_{i+1}) = f(x_{i}) + \\left. f^{\\prime} \\right|_{x_{i}} (x_{i+1} - x_{i}) +  O((x_{i+1} - x_{i})^{2})\n",
        "$$\n",
        "If we neglect the higher-order terms and set $f(x_{i+1})$ to zero, we have Newton's method:\n",
        "\\begin{align}\n",
        "x_{i + 1} &= - \\frac{f(x_{i})}{f^{\\prime}(x_{i})} + x_{i}\n",
        "\\\\\n",
        "x_{i} &\\leftarrow x_{i+1}\n",
        "\\end{align}\n",
        "In Newton's method, the above is applied iteratively until $\\left|f(x_{i + 1})\\right|$ is below a tolerance value."
      ]
    },
    {
      "cell_type": "markdown",
      "metadata": {
        "id": "8ZHJW3k9kZmx"
      },
      "source": [
        "### Task\n",
        "\n",
        "Develop an implementation of Newton's method, with the following three functions in your implementation:\n",
        "```python\n",
        "def newton(f, df, x0, tol, max_it):\n",
        "    # Implement here\n",
        "    \n",
        "    return x1  # return root\n",
        "```\n",
        "where `x0` is the initial guess, `tol` is the stopping tolerance, `max_it` is the maximum number \n",
        "of iterations, and \n",
        "```python\n",
        "def f(x):\n",
        "    # Evaluate function at x and return value\n",
        "\n",
        "\n",
        "def df(x):\n",
        "    # Evaluate df/dx at x and return value\n",
        "\n",
        "```\n",
        "\n",
        "Your implementation should raise an exception if the maximum number of iterations (`max_it`)\n",
        "is exceeded.\n",
        "\n",
        "Use your program to find the roots of:\n",
        "$$\n",
        "f(x) = \\tan(x) - 2x\n",
        "$$\n",
        "between $-\\pi/2$ and $\\pi/2$. Plot $f(x)$ and $f^{\\prime}(x)$ on the same graph, \n",
        "and show the roots computed by Newton's method.\n",
        "\n",
        "Newton's method can be sensitive to the starting value. Make sure you find the root around $x = 1.2$. What happens if you start at $x = 0.9$? It may help to add a print statement in the iteration loop, showing $x$ and $f$ at each iteration.\n",
        "\n",
        "\n",
        "### Extension (optional)\n",
        "\n",
        "For a complicated function we might not know how to compute the derivative, or it may be very complicated\n",
        "to evaluate. Write a function that computes the *numerical derivative* of $f(x)$ by evaluating \n",
        "$(f(x + dx) - f(x - dx)) / (2dx)$, where $dx$ is small. How should you choose $dx$?"
      ]
    },
    {
      "cell_type": "markdown",
      "metadata": {
        "id": "kYMgjsCCkZmz"
      },
      "source": [
        "### Solution\n",
        "\n",
        "We first implement a Newton solver function:"
      ]
    },
    {
      "cell_type": "code",
      "metadata": {
        "deletable": false,
        "nbgrader": {
          "cell_type": "code",
          "checksum": "290b4b5892bdeabd6ab6a0a33ecf8fc8",
          "grade": false,
          "grade_id": "cell-d67ac5bf99448637",
          "locked": false,
          "schema_version": 3,
          "solution": true
        },
        "id": "QucubPPqkZm0"
      },
      "source": [
        "import numpy as np\n",
        "\n",
        "def newton(f, df, x, tol=1e-8, max_it=20):\n",
        "    \"\"\"Find root of equation defined by function f(x) where df(x) is\n",
        "    first derivative and x is the initial guess.Optional arguments tol \n",
        "    (tolerance) and max_it (maximum number of iterations)\"\"\"\n",
        "    error = tol + 1\n",
        "    it = 0\n",
        "    while error > tol:\n",
        "      it += 1\n",
        "      x = x - f(x) / df(x)\n",
        "\n",
        "      # if function is very close to 0, below stopping tolerance, we can stop, we now have a good x1 root\n",
        "      if f(x) < tol:\n",
        "        break\n",
        "      else:\n",
        "        pass\n",
        "\n",
        "      # if iterations has reached max count, stop the while loop\n",
        "      if it > max_it:\n",
        "        print(\"Oops, iteration count is very large. Breaking out of while loop.\")\n",
        "        break\n",
        "\n",
        "    return x"
      ],
      "execution_count": 30,
      "outputs": []
    },
    {
      "cell_type": "markdown",
      "metadata": {
        "id": "BJjTh1dgkZm1"
      },
      "source": [
        "We now provide implementations of `f` and `df`, and find the roots:"
      ]
    },
    {
      "cell_type": "code",
      "metadata": {
        "deletable": false,
        "nbgrader": {
          "cell_type": "code",
          "checksum": "87ec2db5298cf3652d7a10b265e662f7",
          "grade": false,
          "grade_id": "cell-8b0ea0df543b1534",
          "locked": false,
          "schema_version": 3,
          "solution": true
        },
        "id": "0JniwavPkZm2",
        "colab": {
          "base_uri": "https://localhost:8080/"
        },
        "outputId": "1f24e801-c84d-4a4d-a543-3666e1b654ad"
      },
      "source": [
        "def f(x):\n",
        "    return np.tan(x) - 2*x\n",
        "\n",
        "def df(x):\n",
        "    return (np.cos(x))**(-2) - 2\n",
        "\n",
        "root = newton(f, df, 1.2, tol=1e-8, max_it=20)\n",
        "print(root)"
      ],
      "execution_count": 45,
      "outputs": [
        {
          "output_type": "stream",
          "name": "stdout",
          "text": [
            "1.1655611852072116\n"
          ]
        }
      ]
    },
    {
      "cell_type": "code",
      "metadata": {
        "id": "ja8ejwAy5G1e",
        "colab": {
          "base_uri": "https://localhost:8080/"
        },
        "outputId": "dbbd88ec-edf1-4c85-d43c-5703785c075d"
      },
      "source": [
        "#since tan(x)-2x is an odd function: tan(x)-2x = -[tan(-x)-2(-x)], 2 roots must be equal but opposite signs, one root is at 0\n",
        "\n",
        "#show the roots computed by Newton's method\n",
        "if root < np.pi/2:\n",
        "    print(\"The three roots are \" + str(root) + \", \" + str(-1*root) + \" and 0\")"
      ],
      "execution_count": 50,
      "outputs": [
        {
          "output_type": "stream",
          "name": "stdout",
          "text": [
            "The three roots are 1.1655611852072116, -1.1655611852072116 and 0\n"
          ]
        }
      ]
    },
    {
      "cell_type": "markdown",
      "metadata": {
        "id": "M5kNgTNskZm8"
      },
      "source": [
        "We can visualise the result:"
      ]
    },
    {
      "cell_type": "code",
      "metadata": {
        "deletable": false,
        "nbgrader": {
          "cell_type": "code",
          "checksum": "00bb88d2a24b4e1d531ee6e6d9eb61de",
          "grade": false,
          "grade_id": "cell-997c8b60a3053a38",
          "locked": false,
          "schema_version": 3,
          "solution": true
        },
        "id": "THrlkSD0kZm8",
        "colab": {
          "base_uri": "https://localhost:8080/",
          "height": 295
        },
        "outputId": "f1032a59-5383-4525-b25b-5e9eef30eb92"
      },
      "source": [
        "%matplotlib inline\n",
        "import numpy as np\n",
        "import matplotlib.pyplot as plt\n",
        "\n",
        "# Plot f and df/dx\n",
        "x = np.linspace(-1.5, 1.5, 100)\n",
        "f = np.tan(x) - 2*x\n",
        "df = (np.cos(x))**(-2) - 2\n",
        "y = 0*x\n",
        "\n",
        "plt.ylim(-5, 5)\n",
        "plt.xlim(x[0], x[-1])\n",
        "plt.plot(x, f, label='$f(x)$')\n",
        "plt.plot(x, df, label=\"$f^{\\prime}(x)$\")\n",
        "plt.plot(x, y)\n",
        "\n",
        "plt.plot(root,0,'ro', label='$($'+str(root)+'$, 0)$') \n",
        "plt.plot(-1*root,0,'bo', label='$($'+str(-1*root)+'$, 0)$')\n",
        "plt.plot(0,0,'go', label='$(0, 0)$')\n",
        "\n",
        "plt.xlabel('$x$')\n",
        "plt.ylabel('$f(x)$')\n",
        "plt.title('Simple plot of f(x) against x')\n",
        "\n",
        "plt.legend()\n",
        "\n",
        "plt.show()"
      ],
      "execution_count": 61,
      "outputs": [
        {
          "output_type": "display_data",
          "data": {
            "image/png": "[encoded data removed]",
            "text/plain": [
              "<Figure size 432x288 with 1 Axes>"
            ]
          },
          "metadata": {
            "needs_background": "light"
          }
        }
      ]
    },
    {
      "cell_type": "markdown",
      "metadata": {
        "id": "NkIX6TNykZm9"
      },
      "source": [
        "For the extension, we can replace the function `df(x)` with a new version"
      ]
    },
    {
      "cell_type": "code",
      "metadata": {
        "deletable": false,
        "nbgrader": {
          "cell_type": "code",
          "checksum": "70a98780d957280ddaf074ca6a09f072",
          "grade": false,
          "grade_id": "cell-3d320bc0309566f1",
          "locked": false,
          "schema_version": 3,
          "solution": true
        },
        "id": "qGTPC1JskZm-"
      },
      "source": [
        "def df(x):\n",
        "    # Try changing dx to 1e-15 or smaller\n",
        "    dx = 1e-9\n",
        "    # YOUR CODE HERE\n",
        "    raise NotImplementedError()"
      ],
      "execution_count": null,
      "outputs": []
    },
    {
      "cell_type": "code",
      "metadata": {
        "deletable": false,
        "editable": false,
        "nbgrader": {
          "cell_type": "code",
          "checksum": "7f6d1a0aa1ff4f83b22e337760138a88",
          "grade": true,
          "grade_id": "cell-3d320bc0309566f1wew",
          "locked": true,
          "points": 0,
          "schema_version": 3,
          "solution": false
        },
        "id": "xCCFbqlNkZm-"
      },
      "source": [
        "# Find roots near -1.2, 0.1, and 1.2\n",
        "xroots = np.array((newton(f, df, -1.2),\n",
        "                   newton(f, df, 0.1),\n",
        "                   newton(f, df, 1.2)))\n",
        "assert np.isclose(xroots, [-1.16556119e+00, 2.08575213e-10, 1.16556119e+00]).all()"
      ],
      "execution_count": null,
      "outputs": []
    },
    {
      "cell_type": "code",
      "metadata": {
        "deletable": false,
        "nbgrader": {
          "cell_type": "code",
          "checksum": "7d165c7a27493d0f47424dc7ded291c7",
          "grade": false,
          "grade_id": "cell-f6c6dafb16f9b2a8",
          "locked": false,
          "schema_version": 3,
          "solution": true
        },
        "id": "nSWWj0bVkZm-"
      },
      "source": [
        "# Plot f, f' and roots\n",
        "\n",
        "# YOUR CODE HERE\n",
        "raise NotImplementedError()"
      ],
      "execution_count": null,
      "outputs": []
    },
    {
      "cell_type": "markdown",
      "metadata": {
        "id": "YmHMqqk0kZm_"
      },
      "source": [
        "In practice, we could use the Newton function `scipy.optimize.newton` from SciPy (https://docs.scipy.org/doc/scipy/reference/generated/scipy.optimize.newton.html) rather than implementing our own function."
      ]
    },
    {
      "cell_type": "markdown",
      "metadata": {
        "id": "HCASESf7kZm_"
      },
      "source": [
        "## Exercise 10.3 (optional, low pass image filter)\n",
        "\n",
        "Images files can be loaded and displayed with Matplotlib. An imported image is stored as a \n",
        "three-dimensional NumPy array of floats. The shape of the array is `[0:nx, 0:ny, 0:3]`. \n",
        "where `nx` is the number of pixels in the $x$-direction, `ny` is the number of pixels in the $y$-direction,\n",
        "and the third axis is for the colour component (RGB: red, green and blue) intensity. See https://matplotlib.org/users/image_tutorial.html for more background.\n",
        "\n",
        "Below we fetch an image and display it:"
      ]
    },
    {
      "cell_type": "code",
      "metadata": {
        "id": "3yq-cvUnkZnA"
      },
      "source": [
        "%matplotlib inline\n",
        "import matplotlib.pyplot as plt\n",
        "import matplotlib.image as mpimg\n",
        "\n",
        "# Import image\n",
        "img = mpimg.imread('https://raw.githubusercontent.com/matplotlib/matplotlib.github.com/master/_images/stinkbug.png')\n",
        "\n",
        "# Check type and shape\n",
        "print(type(img))\n",
        "print(\"Image array shape: {}\".format(img.shape))\n",
        "\n",
        "# Display image\n",
        "plt.imshow(img);"
      ],
      "execution_count": null,
      "outputs": []
    },
    {
      "cell_type": "markdown",
      "metadata": {
        "id": "5zi6vMTakZnA"
      },
      "source": [
        "The task is to write a *function* that applies a particular low-pass filter algorithm to an image array \n",
        "and  returns the  filtered image. With this particular filter, the value of a pixel in the filtered image \n",
        "is equal to the average value of the four neighbouring pixels in the original image. For the `[i, j, :]` pixel, \n",
        "the neighbours are  `[i, j+1, :]`, `[i, j-1, :]`, `[i+1, j, :]` and  `[i-1, j, :]`. \n",
        "\n",
        "Run the filter algorithm multiple times on the above image to explore the effect of the filter.\n",
        "\n",
        "*Hint*: To create a NumPy array of zeros, `B`,  with the same shape as array `A`, use:\n",
        "```python\n",
        "import numpy as np\n",
        "B = np.zeros_like(A)\n",
        "```"
      ]
    },
    {
      "cell_type": "code",
      "metadata": {
        "deletable": false,
        "nbgrader": {
          "cell_type": "code",
          "checksum": "824f26622746162aad76ca3791f94305",
          "grade": false,
          "grade_id": "cell-8bc3a81c6142b437",
          "locked": false,
          "schema_version": 3,
          "solution": true
        },
        "id": "g1I3m2KPkZnA"
      },
      "source": [
        "# YOUR CODE HERE\n",
        "raise NotImplementedError()"
      ],
      "execution_count": null,
      "outputs": []
    }
  ]
}