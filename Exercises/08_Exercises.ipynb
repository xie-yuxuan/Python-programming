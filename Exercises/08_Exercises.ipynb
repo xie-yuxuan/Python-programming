{
  "nbformat": 4,
  "nbformat_minor": 0,
  "metadata": {
    "kernelspec": {
      "display_name": "Python 3",
      "language": "python",
      "name": "python3"
    },
    "language_info": {
      "codemirror_mode": {
        "name": "ipython",
        "version": 3
      },
      "file_extension": ".py",
      "mimetype": "text/x-python",
      "name": "python",
      "nbconvert_exporter": "python",
      "pygments_lexer": "ipython3",
      "version": "3.8.5"
    },
    "widgets": {
      "application/vnd.jupyter.widget-state+json": {
        "b6c1c48be4ff44648cac54964b5a4b22": {
          "model_module": "@jupyter-widgets/controls",
          "model_name": "VBoxModel",
          "model_module_version": "1.5.0",
          "state": {
            "_view_name": "VBoxView",
            "_dom_classes": [
              "widget-interact"
            ],
            "_model_name": "VBoxModel",
            "_view_module": "@jupyter-widgets/controls",
            "_model_module_version": "1.5.0",
            "_view_count": null,
            "_view_module_version": "1.5.0",
            "box_style": "",
            "layout": "IPY_MODEL_762ec322ec264db0a023453af1346cb5",
            "_model_module": "@jupyter-widgets/controls",
            "children": [
              "IPY_MODEL_2ae9cbb999e94d4087f16bc1c72788e9",
              "IPY_MODEL_3d7b79312d5b40f7a58db1e3473018da",
              "IPY_MODEL_63634c4140bb473a9d7810e320563c2b"
            ]
          }
        },
        "762ec322ec264db0a023453af1346cb5": {
          "model_module": "@jupyter-widgets/base",
          "model_name": "LayoutModel",
          "model_module_version": "1.2.0",
          "state": {
            "_view_name": "LayoutView",
            "grid_template_rows": null,
            "right": null,
            "justify_content": null,
            "_view_module": "@jupyter-widgets/base",
            "overflow": null,
            "_model_module_version": "1.2.0",
            "_view_count": null,
            "flex_flow": null,
            "width": null,
            "min_width": null,
            "border": null,
            "align_items": null,
            "bottom": null,
            "_model_module": "@jupyter-widgets/base",
            "top": null,
            "grid_column": null,
            "overflow_y": null,
            "overflow_x": null,
            "grid_auto_flow": null,
            "grid_area": null,
            "grid_template_columns": null,
            "flex": null,
            "_model_name": "LayoutModel",
            "justify_items": null,
            "grid_row": null,
            "max_height": null,
            "align_content": null,
            "visibility": null,
            "align_self": null,
            "height": null,
            "min_height": null,
            "padding": null,
            "grid_auto_rows": null,
            "grid_gap": null,
            "max_width": null,
            "order": null,
            "_view_module_version": "1.2.0",
            "grid_template_areas": null,
            "object_position": null,
            "object_fit": null,
            "grid_auto_columns": null,
            "margin": null,
            "display": null,
            "left": null
          }
        },
        "2ae9cbb999e94d4087f16bc1c72788e9": {
          "model_module": "@jupyter-widgets/controls",
          "model_name": "FloatSliderModel",
          "model_module_version": "1.5.0",
          "state": {
            "_view_name": "FloatSliderView",
            "style": "IPY_MODEL_8f5ad9e50dac481b925fcc09cafab992",
            "_dom_classes": [],
            "description": "ω1",
            "step": 0.25,
            "_model_name": "FloatSliderModel",
            "orientation": "horizontal",
            "max": 2,
            "_view_module": "@jupyter-widgets/controls",
            "_model_module_version": "1.5.0",
            "value": 1,
            "_view_count": null,
            "disabled": false,
            "_view_module_version": "1.5.0",
            "min": 0,
            "continuous_update": true,
            "readout_format": ".2f",
            "description_tooltip": null,
            "readout": true,
            "_model_module": "@jupyter-widgets/controls",
            "layout": "IPY_MODEL_dff0b8c5cf624860b258b6b2887b7bb1"
          }
        },
        "3d7b79312d5b40f7a58db1e3473018da": {
          "model_module": "@jupyter-widgets/controls",
          "model_name": "FloatSliderModel",
          "model_module_version": "1.5.0",
          "state": {
            "_view_name": "FloatSliderView",
            "style": "IPY_MODEL_e50472817e7f400b843ab75f8bc902fa",
            "_dom_classes": [],
            "description": "ω0",
            "step": 0.25,
            "_model_name": "FloatSliderModel",
            "orientation": "horizontal",
            "max": 2,
            "_view_module": "@jupyter-widgets/controls",
            "_model_module_version": "1.5.0",
            "value": 1,
            "_view_count": null,
            "disabled": false,
            "_view_module_version": "1.5.0",
            "min": 0,
            "continuous_update": true,
            "readout_format": ".2f",
            "description_tooltip": null,
            "readout": true,
            "_model_module": "@jupyter-widgets/controls",
            "layout": "IPY_MODEL_430d74c7467048359d2a806ce1d06ce5"
          }
        },
        "63634c4140bb473a9d7810e320563c2b": {
          "model_module": "@jupyter-widgets/output",
          "model_name": "OutputModel",
          "model_module_version": "1.0.0",
          "state": {
            "_view_name": "OutputView",
            "msg_id": "",
            "_dom_classes": [],
            "_model_name": "OutputModel",
            "outputs": [
              {
                "output_type": "display_data",
                "data": {
                  "image/png": "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\n",
                  "text/plain": "<Figure size 432x288 with 1 Axes>"
                },
                "metadata": {
                  "needs_background": "light"
                }
              }
            ],
            "_view_module": "@jupyter-widgets/output",
            "_model_module_version": "1.0.0",
            "_view_count": null,
            "_view_module_version": "1.0.0",
            "layout": "IPY_MODEL_b6b898034e3848708f6ca02591965494",
            "_model_module": "@jupyter-widgets/output"
          }
        },
        "8f5ad9e50dac481b925fcc09cafab992": {
          "model_module": "@jupyter-widgets/controls",
          "model_name": "SliderStyleModel",
          "model_module_version": "1.5.0",
          "state": {
            "_view_name": "StyleView",
            "handle_color": null,
            "_model_name": "SliderStyleModel",
            "description_width": "",
            "_view_module": "@jupyter-widgets/base",
            "_model_module_version": "1.5.0",
            "_view_count": null,
            "_view_module_version": "1.2.0",
            "_model_module": "@jupyter-widgets/controls"
          }
        },
        "dff0b8c5cf624860b258b6b2887b7bb1": {
          "model_module": "@jupyter-widgets/base",
          "model_name": "LayoutModel",
          "model_module_version": "1.2.0",
          "state": {
            "_view_name": "LayoutView",
            "grid_template_rows": null,
            "right": null,
            "justify_content": null,
            "_view_module": "@jupyter-widgets/base",
            "overflow": null,
            "_model_module_version": "1.2.0",
            "_view_count": null,
            "flex_flow": null,
            "width": null,
            "min_width": null,
            "border": null,
            "align_items": null,
            "bottom": null,
            "_model_module": "@jupyter-widgets/base",
            "top": null,
            "grid_column": null,
            "overflow_y": null,
            "overflow_x": null,
            "grid_auto_flow": null,
            "grid_area": null,
            "grid_template_columns": null,
            "flex": null,
            "_model_name": "LayoutModel",
            "justify_items": null,
            "grid_row": null,
            "max_height": null,
            "align_content": null,
            "visibility": null,
            "align_self": null,
            "height": null,
            "min_height": null,
            "padding": null,
            "grid_auto_rows": null,
            "grid_gap": null,
            "max_width": null,
            "order": null,
            "_view_module_version": "1.2.0",
            "grid_template_areas": null,
            "object_position": null,
            "object_fit": null,
            "grid_auto_columns": null,
            "margin": null,
            "display": null,
            "left": null
          }
        },
        "e50472817e7f400b843ab75f8bc902fa": {
          "model_module": "@jupyter-widgets/controls",
          "model_name": "SliderStyleModel",
          "model_module_version": "1.5.0",
          "state": {
            "_view_name": "StyleView",
            "handle_color": null,
            "_model_name": "SliderStyleModel",
            "description_width": "",
            "_view_module": "@jupyter-widgets/base",
            "_model_module_version": "1.5.0",
            "_view_count": null,
            "_view_module_version": "1.2.0",
            "_model_module": "@jupyter-widgets/controls"
          }
        },
        "430d74c7467048359d2a806ce1d06ce5": {
          "model_module": "@jupyter-widgets/base",
          "model_name": "LayoutModel",
          "model_module_version": "1.2.0",
          "state": {
            "_view_name": "LayoutView",
            "grid_template_rows": null,
            "right": null,
            "justify_content": null,
            "_view_module": "@jupyter-widgets/base",
            "overflow": null,
            "_model_module_version": "1.2.0",
            "_view_count": null,
            "flex_flow": null,
            "width": null,
            "min_width": null,
            "border": null,
            "align_items": null,
            "bottom": null,
            "_model_module": "@jupyter-widgets/base",
            "top": null,
            "grid_column": null,
            "overflow_y": null,
            "overflow_x": null,
            "grid_auto_flow": null,
            "grid_area": null,
            "grid_template_columns": null,
            "flex": null,
            "_model_name": "LayoutModel",
            "justify_items": null,
            "grid_row": null,
            "max_height": null,
            "align_content": null,
            "visibility": null,
            "align_self": null,
            "height": null,
            "min_height": null,
            "padding": null,
            "grid_auto_rows": null,
            "grid_gap": null,
            "max_width": null,
            "order": null,
            "_view_module_version": "1.2.0",
            "grid_template_areas": null,
            "object_position": null,
            "object_fit": null,
            "grid_auto_columns": null,
            "margin": null,
            "display": null,
            "left": null
          }
        },
        "b6b898034e3848708f6ca02591965494": {
          "model_module": "@jupyter-widgets/base",
          "model_name": "LayoutModel",
          "model_module_version": "1.2.0",
          "state": {
            "_view_name": "LayoutView",
            "grid_template_rows": null,
            "right": null,
            "justify_content": null,
            "_view_module": "@jupyter-widgets/base",
            "overflow": null,
            "_model_module_version": "1.2.0",
            "_view_count": null,
            "flex_flow": null,
            "width": null,
            "min_width": null,
            "border": null,
            "align_items": null,
            "bottom": null,
            "_model_module": "@jupyter-widgets/base",
            "top": null,
            "grid_column": null,
            "overflow_y": null,
            "overflow_x": null,
            "grid_auto_flow": null,
            "grid_area": null,
            "grid_template_columns": null,
            "flex": null,
            "_model_name": "LayoutModel",
            "justify_items": null,
            "grid_row": null,
            "max_height": null,
            "align_content": null,
            "visibility": null,
            "align_self": null,
            "height": null,
            "min_height": null,
            "padding": null,
            "grid_auto_rows": null,
            "grid_gap": null,
            "max_width": null,
            "order": null,
            "_view_module_version": "1.2.0",
            "grid_template_areas": null,
            "object_position": null,
            "object_fit": null,
            "grid_auto_columns": null,
            "margin": null,
            "display": null,
            "left": null
          }
        },
        "3f5ae7cbdc09458eae788f91d6f519b0": {
          "model_module": "@jupyter-widgets/controls",
          "model_name": "VBoxModel",
          "model_module_version": "1.5.0",
          "state": {
            "_view_name": "VBoxView",
            "_dom_classes": [
              "widget-interact"
            ],
            "_model_name": "VBoxModel",
            "_view_module": "@jupyter-widgets/controls",
            "_model_module_version": "1.5.0",
            "_view_count": null,
            "_view_module_version": "1.5.0",
            "box_style": "",
            "layout": "IPY_MODEL_a74b48069b9e4663a71a599d335fce7e",
            "_model_module": "@jupyter-widgets/controls",
            "children": [
              "IPY_MODEL_3a73c735311b4875a42b09fe34833371",
              "IPY_MODEL_85c2f31051b0438a81676443fc43d060",
              "IPY_MODEL_5b53751574804aca8f7e97d9a48ffefe",
              "IPY_MODEL_fb95c3d5272743dfbf63710485282d51",
              "IPY_MODEL_0b2c43f10c9b4875895bad21ea59b7b6",
              "IPY_MODEL_9861185343cb4efaa0cc195bc965e8aa",
              "IPY_MODEL_e7fc8c7b9ebf484984c97f78c1d536a8"
            ]
          }
        },
        "a74b48069b9e4663a71a599d335fce7e": {
          "model_module": "@jupyter-widgets/base",
          "model_name": "LayoutModel",
          "model_module_version": "1.2.0",
          "state": {
            "_view_name": "LayoutView",
            "grid_template_rows": null,
            "right": null,
            "justify_content": null,
            "_view_module": "@jupyter-widgets/base",
            "overflow": null,
            "_model_module_version": "1.2.0",
            "_view_count": null,
            "flex_flow": null,
            "width": null,
            "min_width": null,
            "border": null,
            "align_items": null,
            "bottom": null,
            "_model_module": "@jupyter-widgets/base",
            "top": null,
            "grid_column": null,
            "overflow_y": null,
            "overflow_x": null,
            "grid_auto_flow": null,
            "grid_area": null,
            "grid_template_columns": null,
            "flex": null,
            "_model_name": "LayoutModel",
            "justify_items": null,
            "grid_row": null,
            "max_height": null,
            "align_content": null,
            "visibility": null,
            "align_self": null,
            "height": null,
            "min_height": null,
            "padding": null,
            "grid_auto_rows": null,
            "grid_gap": null,
            "max_width": null,
            "order": null,
            "_view_module_version": "1.2.0",
            "grid_template_areas": null,
            "object_position": null,
            "object_fit": null,
            "grid_auto_columns": null,
            "margin": null,
            "display": null,
            "left": null
          }
        },
        "3a73c735311b4875a42b09fe34833371": {
          "model_module": "@jupyter-widgets/controls",
          "model_name": "IntSliderModel",
          "model_module_version": "1.5.0",
          "state": {
            "_view_name": "IntSliderView",
            "style": "IPY_MODEL_94b0b65fd11549029a77b75d2cd7f9f9",
            "_dom_classes": [],
            "description": "year",
            "step": 1,
            "_model_name": "IntSliderModel",
            "orientation": "horizontal",
            "max": 2021,
            "_view_module": "@jupyter-widgets/controls",
            "_model_module_version": "1.5.0",
            "value": 2011,
            "_view_count": null,
            "disabled": false,
            "_view_module_version": "1.5.0",
            "min": 2011,
            "continuous_update": true,
            "readout_format": "d",
            "description_tooltip": null,
            "readout": true,
            "_model_module": "@jupyter-widgets/controls",
            "layout": "IPY_MODEL_98aa5d8dc371467390231b8e25d8c528"
          }
        },
        "85c2f31051b0438a81676443fc43d060": {
          "model_module": "@jupyter-widgets/controls",
          "model_name": "FloatSliderModel",
          "model_module_version": "1.5.0",
          "state": {
            "_view_name": "FloatSliderView",
            "style": "IPY_MODEL_9fbea4c1b02949339bb81b16068babf2",
            "_dom_classes": [],
            "description": "Camb_City",
            "step": 0.01,
            "_model_name": "FloatSliderModel",
            "orientation": "horizontal",
            "max": 0.1,
            "_view_module": "@jupyter-widgets/controls",
            "_model_module_version": "1.5.0",
            "value": 0,
            "_view_count": null,
            "disabled": false,
            "_view_module_version": "1.5.0",
            "min": 0,
            "continuous_update": true,
            "readout_format": ".2f",
            "description_tooltip": null,
            "readout": true,
            "_model_module": "@jupyter-widgets/controls",
            "layout": "IPY_MODEL_2f68a0361ff144abbf33aa54f077522f"
          }
        },
        "5b53751574804aca8f7e97d9a48ffefe": {
          "model_module": "@jupyter-widgets/controls",
          "model_name": "FloatSliderModel",
          "model_module_version": "1.5.0",
          "state": {
            "_view_name": "FloatSliderView",
            "style": "IPY_MODEL_33b11fab74464ca29070d3df6ea3b4b1",
            "_dom_classes": [],
            "description": "E_Camb",
            "step": 0.01,
            "_model_name": "FloatSliderModel",
            "orientation": "horizontal",
            "max": 0.1,
            "_view_module": "@jupyter-widgets/controls",
            "_model_module_version": "1.5.0",
            "value": 0,
            "_view_count": null,
            "disabled": false,
            "_view_module_version": "1.5.0",
            "min": 0,
            "continuous_update": true,
            "readout_format": ".2f",
            "description_tooltip": null,
            "readout": true,
            "_model_module": "@jupyter-widgets/controls",
            "layout": "IPY_MODEL_1e62afc51c6d45d9b12ed1fa336cdcac"
          }
        },
        "fb95c3d5272743dfbf63710485282d51": {
          "model_module": "@jupyter-widgets/controls",
          "model_name": "FloatSliderModel",
          "model_module_version": "1.5.0",
          "state": {
            "_view_name": "FloatSliderView",
            "style": "IPY_MODEL_5a93b7fbdde74467bbdf96b5131f1987",
            "_dom_classes": [],
            "description": "Fenland",
            "step": 0.01,
            "_model_name": "FloatSliderModel",
            "orientation": "horizontal",
            "max": 0.1,
            "_view_module": "@jupyter-widgets/controls",
            "_model_module_version": "1.5.0",
            "value": 0,
            "_view_count": null,
            "disabled": false,
            "_view_module_version": "1.5.0",
            "min": 0,
            "continuous_update": true,
            "readout_format": ".2f",
            "description_tooltip": null,
            "readout": true,
            "_model_module": "@jupyter-widgets/controls",
            "layout": "IPY_MODEL_0ed1a54307ed46148e1621ea1ce62ec7"
          }
        },
        "0b2c43f10c9b4875895bad21ea59b7b6": {
          "model_module": "@jupyter-widgets/controls",
          "model_name": "FloatSliderModel",
          "model_module_version": "1.5.0",
          "state": {
            "_view_name": "FloatSliderView",
            "style": "IPY_MODEL_a282ba84fd874c5f885029967251a861",
            "_dom_classes": [],
            "description": "Hunt",
            "step": 0.01,
            "_model_name": "FloatSliderModel",
            "orientation": "horizontal",
            "max": 0.1,
            "_view_module": "@jupyter-widgets/controls",
            "_model_module_version": "1.5.0",
            "value": 0,
            "_view_count": null,
            "disabled": false,
            "_view_module_version": "1.5.0",
            "min": 0,
            "continuous_update": true,
            "readout_format": ".2f",
            "description_tooltip": null,
            "readout": true,
            "_model_module": "@jupyter-widgets/controls",
            "layout": "IPY_MODEL_3caf751a84d1435d83d76ae0d54bfb1d"
          }
        },
        "9861185343cb4efaa0cc195bc965e8aa": {
          "model_module": "@jupyter-widgets/controls",
          "model_name": "FloatSliderModel",
          "model_module_version": "1.5.0",
          "state": {
            "_view_name": "FloatSliderView",
            "style": "IPY_MODEL_f5f3153b0b5d4f78848f84e1a485538a",
            "_dom_classes": [],
            "description": "S_camb",
            "step": 0.01,
            "_model_name": "FloatSliderModel",
            "orientation": "horizontal",
            "max": 0.1,
            "_view_module": "@jupyter-widgets/controls",
            "_model_module_version": "1.5.0",
            "value": 0,
            "_view_count": null,
            "disabled": false,
            "_view_module_version": "1.5.0",
            "min": 0,
            "continuous_update": true,
            "readout_format": ".2f",
            "description_tooltip": null,
            "readout": true,
            "_model_module": "@jupyter-widgets/controls",
            "layout": "IPY_MODEL_242d141a22d8436eaef647254cd9e7a1"
          }
        },
        "e7fc8c7b9ebf484984c97f78c1d536a8": {
          "model_module": "@jupyter-widgets/output",
          "model_name": "OutputModel",
          "model_module_version": "1.0.0",
          "state": {
            "_view_name": "OutputView",
            "msg_id": "",
            "_dom_classes": [],
            "_model_name": "OutputModel",
            "outputs": [
              {
                "output_type": "display_data",
                "data": {
                  "image/png": "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\n",
                  "text/plain": "<Figure size 432x288 with 1 Axes>"
                },
                "metadata": {}
              }
            ],
            "_view_module": "@jupyter-widgets/output",
            "_model_module_version": "1.0.0",
            "_view_count": null,
            "_view_module_version": "1.0.0",
            "layout": "IPY_MODEL_62fc1e7f85404c77b89ece63e0de069b",
            "_model_module": "@jupyter-widgets/output"
          }
        },
        "94b0b65fd11549029a77b75d2cd7f9f9": {
          "model_module": "@jupyter-widgets/controls",
          "model_name": "SliderStyleModel",
          "model_module_version": "1.5.0",
          "state": {
            "_view_name": "StyleView",
            "handle_color": null,
            "_model_name": "SliderStyleModel",
            "description_width": "",
            "_view_module": "@jupyter-widgets/base",
            "_model_module_version": "1.5.0",
            "_view_count": null,
            "_view_module_version": "1.2.0",
            "_model_module": "@jupyter-widgets/controls"
          }
        },
        "98aa5d8dc371467390231b8e25d8c528": {
          "model_module": "@jupyter-widgets/base",
          "model_name": "LayoutModel",
          "model_module_version": "1.2.0",
          "state": {
            "_view_name": "LayoutView",
            "grid_template_rows": null,
            "right": null,
            "justify_content": null,
            "_view_module": "@jupyter-widgets/base",
            "overflow": null,
            "_model_module_version": "1.2.0",
            "_view_count": null,
            "flex_flow": null,
            "width": null,
            "min_width": null,
            "border": null,
            "align_items": null,
            "bottom": null,
            "_model_module": "@jupyter-widgets/base",
            "top": null,
            "grid_column": null,
            "overflow_y": null,
            "overflow_x": null,
            "grid_auto_flow": null,
            "grid_area": null,
            "grid_template_columns": null,
            "flex": null,
            "_model_name": "LayoutModel",
            "justify_items": null,
            "grid_row": null,
            "max_height": null,
            "align_content": null,
            "visibility": null,
            "align_self": null,
            "height": null,
            "min_height": null,
            "padding": null,
            "grid_auto_rows": null,
            "grid_gap": null,
            "max_width": null,
            "order": null,
            "_view_module_version": "1.2.0",
            "grid_template_areas": null,
            "object_position": null,
            "object_fit": null,
            "grid_auto_columns": null,
            "margin": null,
            "display": null,
            "left": null
          }
        },
        "9fbea4c1b02949339bb81b16068babf2": {
          "model_module": "@jupyter-widgets/controls",
          "model_name": "SliderStyleModel",
          "model_module_version": "1.5.0",
          "state": {
            "_view_name": "StyleView",
            "handle_color": null,
            "_model_name": "SliderStyleModel",
            "description_width": "",
            "_view_module": "@jupyter-widgets/base",
            "_model_module_version": "1.5.0",
            "_view_count": null,
            "_view_module_version": "1.2.0",
            "_model_module": "@jupyter-widgets/controls"
          }
        },
        "2f68a0361ff144abbf33aa54f077522f": {
          "model_module": "@jupyter-widgets/base",
          "model_name": "LayoutModel",
          "model_module_version": "1.2.0",
          "state": {
            "_view_name": "LayoutView",
            "grid_template_rows": null,
            "right": null,
            "justify_content": null,
            "_view_module": "@jupyter-widgets/base",
            "overflow": null,
            "_model_module_version": "1.2.0",
            "_view_count": null,
            "flex_flow": null,
            "width": null,
            "min_width": null,
            "border": null,
            "align_items": null,
            "bottom": null,
            "_model_module": "@jupyter-widgets/base",
            "top": null,
            "grid_column": null,
            "overflow_y": null,
            "overflow_x": null,
            "grid_auto_flow": null,
            "grid_area": null,
            "grid_template_columns": null,
            "flex": null,
            "_model_name": "LayoutModel",
            "justify_items": null,
            "grid_row": null,
            "max_height": null,
            "align_content": null,
            "visibility": null,
            "align_self": null,
            "height": null,
            "min_height": null,
            "padding": null,
            "grid_auto_rows": null,
            "grid_gap": null,
            "max_width": null,
            "order": null,
            "_view_module_version": "1.2.0",
            "grid_template_areas": null,
            "object_position": null,
            "object_fit": null,
            "grid_auto_columns": null,
            "margin": null,
            "display": null,
            "left": null
          }
        },
        "33b11fab74464ca29070d3df6ea3b4b1": {
          "model_module": "@jupyter-widgets/controls",
          "model_name": "SliderStyleModel",
          "model_module_version": "1.5.0",
          "state": {
            "_view_name": "StyleView",
            "handle_color": null,
            "_model_name": "SliderStyleModel",
            "description_width": "",
            "_view_module": "@jupyter-widgets/base",
            "_model_module_version": "1.5.0",
            "_view_count": null,
            "_view_module_version": "1.2.0",
            "_model_module": "@jupyter-widgets/controls"
          }
        },
        "1e62afc51c6d45d9b12ed1fa336cdcac": {
          "model_module": "@jupyter-widgets/base",
          "model_name": "LayoutModel",
          "model_module_version": "1.2.0",
          "state": {
            "_view_name": "LayoutView",
            "grid_template_rows": null,
            "right": null,
            "justify_content": null,
            "_view_module": "@jupyter-widgets/base",
            "overflow": null,
            "_model_module_version": "1.2.0",
            "_view_count": null,
            "flex_flow": null,
            "width": null,
            "min_width": null,
            "border": null,
            "align_items": null,
            "bottom": null,
            "_model_module": "@jupyter-widgets/base",
            "top": null,
            "grid_column": null,
            "overflow_y": null,
            "overflow_x": null,
            "grid_auto_flow": null,
            "grid_area": null,
            "grid_template_columns": null,
            "flex": null,
            "_model_name": "LayoutModel",
            "justify_items": null,
            "grid_row": null,
            "max_height": null,
            "align_content": null,
            "visibility": null,
            "align_self": null,
            "height": null,
            "min_height": null,
            "padding": null,
            "grid_auto_rows": null,
            "grid_gap": null,
            "max_width": null,
            "order": null,
            "_view_module_version": "1.2.0",
            "grid_template_areas": null,
            "object_position": null,
            "object_fit": null,
            "grid_auto_columns": null,
            "margin": null,
            "display": null,
            "left": null
          }
        },
        "5a93b7fbdde74467bbdf96b5131f1987": {
          "model_module": "@jupyter-widgets/controls",
          "model_name": "SliderStyleModel",
          "model_module_version": "1.5.0",
          "state": {
            "_view_name": "StyleView",
            "handle_color": null,
            "_model_name": "SliderStyleModel",
            "description_width": "",
            "_view_module": "@jupyter-widgets/base",
            "_model_module_version": "1.5.0",
            "_view_count": null,
            "_view_module_version": "1.2.0",
            "_model_module": "@jupyter-widgets/controls"
          }
        },
        "0ed1a54307ed46148e1621ea1ce62ec7": {
          "model_module": "@jupyter-widgets/base",
          "model_name": "LayoutModel",
          "model_module_version": "1.2.0",
          "state": {
            "_view_name": "LayoutView",
            "grid_template_rows": null,
            "right": null,
            "justify_content": null,
            "_view_module": "@jupyter-widgets/base",
            "overflow": null,
            "_model_module_version": "1.2.0",
            "_view_count": null,
            "flex_flow": null,
            "width": null,
            "min_width": null,
            "border": null,
            "align_items": null,
            "bottom": null,
            "_model_module": "@jupyter-widgets/base",
            "top": null,
            "grid_column": null,
            "overflow_y": null,
            "overflow_x": null,
            "grid_auto_flow": null,
            "grid_area": null,
            "grid_template_columns": null,
            "flex": null,
            "_model_name": "LayoutModel",
            "justify_items": null,
            "grid_row": null,
            "max_height": null,
            "align_content": null,
            "visibility": null,
            "align_self": null,
            "height": null,
            "min_height": null,
            "padding": null,
            "grid_auto_rows": null,
            "grid_gap": null,
            "max_width": null,
            "order": null,
            "_view_module_version": "1.2.0",
            "grid_template_areas": null,
            "object_position": null,
            "object_fit": null,
            "grid_auto_columns": null,
            "margin": null,
            "display": null,
            "left": null
          }
        },
        "a282ba84fd874c5f885029967251a861": {
          "model_module": "@jupyter-widgets/controls",
          "model_name": "SliderStyleModel",
          "model_module_version": "1.5.0",
          "state": {
            "_view_name": "StyleView",
            "handle_color": null,
            "_model_name": "SliderStyleModel",
            "description_width": "",
            "_view_module": "@jupyter-widgets/base",
            "_model_module_version": "1.5.0",
            "_view_count": null,
            "_view_module_version": "1.2.0",
            "_model_module": "@jupyter-widgets/controls"
          }
        },
        "3caf751a84d1435d83d76ae0d54bfb1d": {
          "model_module": "@jupyter-widgets/base",
          "model_name": "LayoutModel",
          "model_module_version": "1.2.0",
          "state": {
            "_view_name": "LayoutView",
            "grid_template_rows": null,
            "right": null,
            "justify_content": null,
            "_view_module": "@jupyter-widgets/base",
            "overflow": null,
            "_model_module_version": "1.2.0",
            "_view_count": null,
            "flex_flow": null,
            "width": null,
            "min_width": null,
            "border": null,
            "align_items": null,
            "bottom": null,
            "_model_module": "@jupyter-widgets/base",
            "top": null,
            "grid_column": null,
            "overflow_y": null,
            "overflow_x": null,
            "grid_auto_flow": null,
            "grid_area": null,
            "grid_template_columns": null,
            "flex": null,
            "_model_name": "LayoutModel",
            "justify_items": null,
            "grid_row": null,
            "max_height": null,
            "align_content": null,
            "visibility": null,
            "align_self": null,
            "height": null,
            "min_height": null,
            "padding": null,
            "grid_auto_rows": null,
            "grid_gap": null,
            "max_width": null,
            "order": null,
            "_view_module_version": "1.2.0",
            "grid_template_areas": null,
            "object_position": null,
            "object_fit": null,
            "grid_auto_columns": null,
            "margin": null,
            "display": null,
            "left": null
          }
        },
        "f5f3153b0b5d4f78848f84e1a485538a": {
          "model_module": "@jupyter-widgets/controls",
          "model_name": "SliderStyleModel",
          "model_module_version": "1.5.0",
          "state": {
            "_view_name": "StyleView",
            "handle_color": null,
            "_model_name": "SliderStyleModel",
            "description_width": "",
            "_view_module": "@jupyter-widgets/base",
            "_model_module_version": "1.5.0",
            "_view_count": null,
            "_view_module_version": "1.2.0",
            "_model_module": "@jupyter-widgets/controls"
          }
        },
        "242d141a22d8436eaef647254cd9e7a1": {
          "model_module": "@jupyter-widgets/base",
          "model_name": "LayoutModel",
          "model_module_version": "1.2.0",
          "state": {
            "_view_name": "LayoutView",
            "grid_template_rows": null,
            "right": null,
            "justify_content": null,
            "_view_module": "@jupyter-widgets/base",
            "overflow": null,
            "_model_module_version": "1.2.0",
            "_view_count": null,
            "flex_flow": null,
            "width": null,
            "min_width": null,
            "border": null,
            "align_items": null,
            "bottom": null,
            "_model_module": "@jupyter-widgets/base",
            "top": null,
            "grid_column": null,
            "overflow_y": null,
            "overflow_x": null,
            "grid_auto_flow": null,
            "grid_area": null,
            "grid_template_columns": null,
            "flex": null,
            "_model_name": "LayoutModel",
            "justify_items": null,
            "grid_row": null,
            "max_height": null,
            "align_content": null,
            "visibility": null,
            "align_self": null,
            "height": null,
            "min_height": null,
            "padding": null,
            "grid_auto_rows": null,
            "grid_gap": null,
            "max_width": null,
            "order": null,
            "_view_module_version": "1.2.0",
            "grid_template_areas": null,
            "object_position": null,
            "object_fit": null,
            "grid_auto_columns": null,
            "margin": null,
            "display": null,
            "left": null
          }
        },
        "62fc1e7f85404c77b89ece63e0de069b": {
          "model_module": "@jupyter-widgets/base",
          "model_name": "LayoutModel",
          "model_module_version": "1.2.0",
          "state": {
            "_view_name": "LayoutView",
            "grid_template_rows": null,
            "right": null,
            "justify_content": null,
            "_view_module": "@jupyter-widgets/base",
            "overflow": null,
            "_model_module_version": "1.2.0",
            "_view_count": null,
            "flex_flow": null,
            "width": null,
            "min_width": null,
            "border": null,
            "align_items": null,
            "bottom": null,
            "_model_module": "@jupyter-widgets/base",
            "top": null,
            "grid_column": null,
            "overflow_y": null,
            "overflow_x": null,
            "grid_auto_flow": null,
            "grid_area": null,
            "grid_template_columns": null,
            "flex": null,
            "_model_name": "LayoutModel",
            "justify_items": null,
            "grid_row": null,
            "max_height": null,
            "align_content": null,
            "visibility": null,
            "align_self": null,
            "height": null,
            "min_height": null,
            "padding": null,
            "grid_auto_rows": null,
            "grid_gap": null,
            "max_width": null,
            "order": null,
            "_view_module_version": "1.2.0",
            "grid_template_areas": null,
            "object_position": null,
            "object_fit": null,
            "grid_auto_columns": null,
            "margin": null,
            "display": null,
            "left": null
          }
        }
      }
    },
    "colab": {
      "name": "Copy of 08 Exercises.ipynb",
      "provenance": [],
      "collapsed_sections": []
    }
  },
  "cells": [
    {
      "cell_type": "markdown",
      "metadata": {
        "deletable": false,
        "editable": false,
        "nbgrader": {
          "cell_type": "markdown",
          "checksum": "75c425aff1f0a436daf36404c8ba2ab1",
          "grade": false,
          "grade_id": "cell-ea6c1e4c217d0584",
          "locked": true,
          "schema_version": 3,
          "solution": false
        },
        "id": "j3jznMT6Wtrg"
      },
      "source": [
        "Import the NumPy and Matplotlib modules:"
      ]
    },
    {
      "cell_type": "code",
      "metadata": {
        "deletable": false,
        "editable": false,
        "nbgrader": {
          "cell_type": "code",
          "checksum": "59eda70eb0da3f712de94d757423e124",
          "grade": false,
          "grade_id": "cell-851f16f7d1f512b6",
          "locked": true,
          "schema_version": 3,
          "solution": false
        },
        "id": "zj8_RwoAWtrl"
      },
      "source": [
        "%matplotlib inline\n",
        "import numpy as np\n",
        "import matplotlib.pyplot as plt"
      ],
      "execution_count": null,
      "outputs": []
    },
    {
      "cell_type": "markdown",
      "metadata": {
        "deletable": false,
        "editable": false,
        "nbgrader": {
          "cell_type": "markdown",
          "checksum": "8acb2d08e3646dfeb083bc19f1ad7e50",
          "grade": false,
          "grade_id": "cell-2ae2b1794b3463d5",
          "locked": true,
          "schema_version": 3,
          "solution": false
        },
        "id": "SwjwhsRcWtrm"
      },
      "source": [
        "## Exercise 08.1 (function plotting)\n",
        "\n",
        "Consider the function \n",
        "$$\n",
        "f(x) = e^{x/10} \\sin(\\omega_{1}x)\\cos(\\omega_{0}x)\n",
        "$$\n",
        "from $x = -4\\pi$ to $x = 4\\pi$."
      ]
    },
    {
      "cell_type": "markdown",
      "metadata": {
        "deletable": false,
        "editable": false,
        "nbgrader": {
          "cell_type": "markdown",
          "checksum": "829dcc103249f5c46c67dd8738848e0e",
          "grade": false,
          "grade_id": "cell-7bbadc15f57cb62e",
          "locked": true,
          "schema_version": 3,
          "solution": false
        },
        "id": "Jqq7v5idWtrn"
      },
      "source": [
        "(1) Plot the function when $\\omega_{0} = \\omega_{1} = 1$. Label the axes."
      ]
    },
    {
      "cell_type": "code",
      "metadata": {
        "deletable": false,
        "nbgrader": {
          "cell_type": "code",
          "checksum": "dda339af9d9ff1200c6e690cc736346e",
          "grade": false,
          "grade_id": "cell-c220b6560241ee82",
          "locked": false,
          "schema_version": 3,
          "solution": true
        },
        "id": "cnc7qlozWtro",
        "colab": {
          "base_uri": "https://localhost:8080/",
          "height": 297
        },
        "outputId": "d4d562d5-80f3-4eb8-e26b-dec38a92c097"
      },
      "source": [
        "%matplotlib inline\n",
        "import numpy as np\n",
        "import matplotlib.pyplot as plt\n",
        "\n",
        "ω1 = 1\n",
        "ω0 = 1\n",
        "num_points = 100\n",
        "x = np.linspace(-4*np.pi, 4*np.pi, num=num_points)\n",
        "f = np.exp(x/10)*np.sin(ω1*x)*np.cos(ω0*x)\n",
        "\n",
        "plt.plot(x, f)\n",
        "\n",
        "plt.xlabel('$x$')\n",
        "plt.ylabel('$f(x)$')\n",
        "plt.title(\"Simple plot of $x$ vs $f(x)$\")\n",
        "\n",
        "plt.xlim(x[0], x[-1])\n",
        "plt.show()"
      ],
      "execution_count": null,
      "outputs": [
        {
          "output_type": "display_data",
          "data": {
            "image/png": "[encoded data removed]",
            "text/plain": [
              "<Figure size 432x288 with 1 Axes>"
            ]
          },
          "metadata": {
            "needs_background": "light"
          }
        }
      ]
    },
    {
      "cell_type": "markdown",
      "metadata": {
        "deletable": false,
        "editable": false,
        "nbgrader": {
          "cell_type": "markdown",
          "checksum": "9d299345f06033e8be689ce7feebea37",
          "grade": false,
          "grade_id": "cell-e4170686d6779807",
          "locked": true,
          "schema_version": 3,
          "solution": false
        },
        "id": "btOvv6loWtro"
      },
      "source": [
        "(2) Create an interactive plot with sliders for $\\omega_{0}$ and $\\omega_{1}$, varying from 0 to 2."
      ]
    },
    {
      "cell_type": "code",
      "metadata": {
        "deletable": false,
        "nbgrader": {
          "cell_type": "code",
          "checksum": "88d66aece0257fe1f0965921fcfc3580",
          "grade": false,
          "grade_id": "cell-e6df2ed12d41ffa1",
          "locked": false,
          "schema_version": 3,
          "solution": true
        },
        "id": "fJcJ6b8iWtrp",
        "colab": {
          "base_uri": "https://localhost:8080/",
          "height": 379,
          "referenced_widgets": [
            "b6c1c48be4ff44648cac54964b5a4b22",
            "762ec322ec264db0a023453af1346cb5",
            "2ae9cbb999e94d4087f16bc1c72788e9",
            "3d7b79312d5b40f7a58db1e3473018da",
            "63634c4140bb473a9d7810e320563c2b",
            "8f5ad9e50dac481b925fcc09cafab992",
            "dff0b8c5cf624860b258b6b2887b7bb1",
            "e50472817e7f400b843ab75f8bc902fa",
            "430d74c7467048359d2a806ce1d06ce5",
            "b6b898034e3848708f6ca02591965494"
          ]
        },
        "outputId": "2e5179e8-6d54-448f-e270-a2b286208a9e"
      },
      "source": [
        "%matplotlib inline\n",
        "import numpy as np\n",
        "import matplotlib.pyplot as plt\n",
        "from ipywidgets import *\n",
        "\n",
        "def plot(ω1 = 1, ω0 = 1):\n",
        "  num_points = 100\n",
        "  x = np.linspace(-4*np.pi, 4*np.pi, num=num_points)\n",
        "  f = np.exp(x/10)*np.sin(ω1*x)*np.cos(ω0*x)\n",
        "  plt.plot(x, f)\n",
        "  \n",
        "  plt.xlabel('$x$')\n",
        "  plt.ylabel('$f(x)$')\n",
        "  plt.title(\"Simple plot of $x$ vs $f(x)$\")\n",
        "\n",
        "  plt.xlim(x[0], x[-1])\n",
        "  plt.show()\n",
        "interact(plot, ω0 = (0, 2, 0.25), ω1 = (0, 2, 0.25))\n",
        "\n",
        "\n"
      ],
      "execution_count": null,
      "outputs": [
        {
          "output_type": "display_data",
          "data": {
            "application/vnd.jupyter.widget-view+json": {
              "model_id": "b6c1c48be4ff44648cac54964b5a4b22",
              "version_minor": 0,
              "version_major": 2
            },
            "text/plain": [
              "interactive(children=(FloatSlider(value=1.0, description='ω1', max=2.0, step=0.25), FloatSlider(value=1.0, des…"
            ]
          },
          "metadata": {}
        },
        {
          "output_type": "execute_result",
          "data": {
            "text/plain": [
              "<function __main__.plot>"
            ]
          },
          "metadata": {},
          "execution_count": 65
        }
      ]
    },
    {
      "cell_type": "markdown",
      "metadata": {
        "deletable": false,
        "editable": false,
        "nbgrader": {
          "cell_type": "markdown",
          "checksum": "94ca85f38721a3face01aecf8f91dedd",
          "grade": false,
          "grade_id": "cell-8fa19840a1969ff6",
          "locked": true,
          "schema_version": 3,
          "solution": false
        },
        "id": "WK8u8JZJWtrq"
      },
      "source": [
        "## Exercise 08.2 (multiple function plotting)\n",
        "\n",
        "Plot the function \n",
        "\n",
        "$$\n",
        "f(x)  = \\frac{\\sin(x)}{x}\n",
        "$$\n",
        "\n",
        "from $x = -6\\pi$ to $x = 6\\pi$. Think carefully about which $x$ values you use when \n",
        "$x$ is close to zero.\n",
        "  \n",
        "Add to the above plot the graph of $1/ \\left| x \\right|$, and limit the range of the $y$ axis to 1 using\n",
        "`plt.ylim`. (Hint: use `np.abs(x)` to return the absolute values of each \n",
        "component of a NumPy array `x`.)"
      ]
    },
    {
      "cell_type": "code",
      "metadata": {
        "deletable": false,
        "nbgrader": {
          "cell_type": "code",
          "checksum": "e530357e82442e9fcb34698e9ddd5460",
          "grade": false,
          "grade_id": "cell-4a1bc264d6e1a525",
          "locked": false,
          "schema_version": 3,
          "solution": true
        },
        "id": "jiJAayF5Wtrr",
        "colab": {
          "base_uri": "https://localhost:8080/",
          "height": 297
        },
        "outputId": "9b963418-a9c8-4479-879e-7d913b501f98"
      },
      "source": [
        "%matplotlib inline\n",
        "import numpy as np\n",
        "import matplotlib.pyplot as plt\n",
        "\n",
        "num_points = 100\n",
        "x = np.linspace(-6*np.pi, 6*np.pi, num_points)\n",
        "f0 = np.sin(x)/x\n",
        "f1 = 1/np.abs(x)\n",
        "plt.plot(x, f0, label = \"$(sinx)/x$\")\n",
        "plt.plot(x, f1, label = \"$1/|x|$\")\n",
        "\n",
        "plt.xlabel('$x$')\n",
        "plt.ylabel('$f(x)$')\n",
        "plt.title(\"Simple plot of $x$ vs $f(x)$\")\n",
        "plt.legend()\n",
        "\n",
        "plt.xlim(x[0], x[-1])\n",
        "plt.show()"
      ],
      "execution_count": null,
      "outputs": [
        {
          "output_type": "display_data",
          "data": {
            "image/png": "[encoded data removed]",
            "text/plain": [
              "<Figure size 432x288 with 1 Axes>"
            ]
          },
          "metadata": {
            "needs_background": "light"
          }
        }
      ]
    },
    {
      "cell_type": "markdown",
      "metadata": {
        "id": "UfOf5bkIWtrs"
      },
      "source": [
        "## Exercise 08.3 (demographics and interactive plotting)\n",
        "\n",
        "A county planning body has requested an interactive tool to visualise the population distribution in Cambridgeshire (by district) from 2011 to 2021 for different population growth rate scenarios in each district. It can be assumed that:\n",
        "\n",
        "- the growth rates are constant in each district;\n",
        "- the growth rate will not be negative in any district; and \n",
        "- the annual growth rate in any one district will not exceed 10%.\n",
        "\n",
        "Building on the pie chart example with population data in the Activity notebook, create an interactive plot with:\n",
        "\n",
        "1. A slider for the year (from 2011 to 2021); and\n",
        "2. Sliders for the annual population growth for each district (in percentage), with an \n",
        "   initial value of zero for each district."
      ]
    },
    {
      "cell_type": "markdown",
      "metadata": {
        "id": "Vu5G6PGmWtrs"
      },
      "source": [
        "### Solution\n",
        "\n",
        "There are number of ways this exercise could be done, from very simple but not very robust with respect to changes in the order of the input data, to quite techical but robust with repsect to the order in which data is entered."
      ]
    },
    {
      "cell_type": "code",
      "metadata": {
        "deletable": false,
        "nbgrader": {
          "cell_type": "code",
          "checksum": "c900ac52bff18cf62b81b3ff3522789e",
          "grade": false,
          "grade_id": "cell-0ddfc4c579d42ad3",
          "locked": false,
          "schema_version": 3,
          "solution": true
        },
        "id": "ZoC_UlbqWtrt",
        "colab": {
          "base_uri": "https://localhost:8080/",
          "height": 473,
          "referenced_widgets": [
            "3f5ae7cbdc09458eae788f91d6f519b0",
            "a74b48069b9e4663a71a599d335fce7e",
            "3a73c735311b4875a42b09fe34833371",
            "85c2f31051b0438a81676443fc43d060",
            "5b53751574804aca8f7e97d9a48ffefe",
            "fb95c3d5272743dfbf63710485282d51",
            "0b2c43f10c9b4875895bad21ea59b7b6",
            "9861185343cb4efaa0cc195bc965e8aa",
            "e7fc8c7b9ebf484984c97f78c1d536a8",
            "94b0b65fd11549029a77b75d2cd7f9f9",
            "98aa5d8dc371467390231b8e25d8c528",
            "9fbea4c1b02949339bb81b16068babf2",
            "2f68a0361ff144abbf33aa54f077522f",
            "33b11fab74464ca29070d3df6ea3b4b1",
            "1e62afc51c6d45d9b12ed1fa336cdcac",
            "5a93b7fbdde74467bbdf96b5131f1987",
            "0ed1a54307ed46148e1621ea1ce62ec7",
            "a282ba84fd874c5f885029967251a861",
            "3caf751a84d1435d83d76ae0d54bfb1d",
            "f5f3153b0b5d4f78848f84e1a485538a",
            "242d141a22d8436eaef647254cd9e7a1",
            "62fc1e7f85404c77b89ece63e0de069b"
          ]
        },
        "outputId": "6debff93-22a5-4f56-b4f5-88890df9cbb8"
      },
      "source": [
        "%matplotlib inline\n",
        "import numpy as np\n",
        "import matplotlib.pyplot as plt\n",
        "from ipywidgets import *\n",
        "\n",
        "# List of (district, population) data (in 2011)\n",
        "population_data = (('Cambridge City', 123900), \n",
        "                   ('East Cambridgeshire', 83800), \n",
        "                   ('Fenland', 95300), \n",
        "                   ('Huntingdonshire', 169500), \n",
        "                   ('South Cambridgeshire', 148800))\n",
        "\n",
        "#array of district and population initially\n",
        "district = []\n",
        "population = []\n",
        "for x in population_data:\n",
        "  district.append(x[0])\n",
        "  population.append(x[1])\n",
        "district = np.array(district)\n",
        "population = np.array(population)\n",
        "pop = np.zeros(5)\n",
        "\n",
        "def plot(year = 2011, Camb_City = 0, E_Camb = 0, Fenland = 0, Hunt = 0, S_camb = 0):\n",
        "  for x in range(len(district)):\n",
        "    if district[x] == \"Cambridge City\":\n",
        "      pop[x] = population[x]*((1+Camb_City)**(year-2011))\n",
        "    elif district[x] == \"East Cambridgeshire\":\n",
        "      pop[x] = population[x]*((1+E_Camb)**(year-2011))\n",
        "    elif district[x] == \"Fenland\":\n",
        "      pop[x] = population[x]*((1+Fenland)**(year-2011))\n",
        "    elif district[x] == \"Huntingdonshire\":\n",
        "      pop[x] = population[x]*((1+Hunt)**(year-2011))\n",
        "    elif district[x] == \"South Cambridgeshire\":\n",
        "      pop[x] = population[x]*((1+S_camb)**(year-2011))\n",
        "\n",
        "  # Specify slice colours \n",
        "  # (see https://stackoverflow.com/questions/22408237/named-colors-in-matplotlib)\n",
        "  colors = ['yellowgreen', 'gold', 'lightskyblue', 'lightcoral', 'red']\n",
        "\n",
        "  # \"explode\" the 1st slice (Cambridge City)\n",
        "  explode = (0.1, 0.0, 0, 0, 0)  \n",
        "\n",
        "  # Produce pie chart. The slices will be ordered and plotted counter-clockwise.\n",
        "  plt.pie(pop, explode=explode, labels=district, colors=colors,\n",
        "        autopct='%1.1f%%', shadow=True, startangle=90)\n",
        "  \n",
        "  plt.title('Population number in each district')\n",
        "  plt.show\n",
        "\n",
        "interact(plot, year = (2011, 2021, 1), Camb_City = (0, 0.1, 0.01), E_Camb = (0, 0.1, 0.01), Fenland = (0, 0.1, 0.01), Hunt = (0, 0.1, 0.01), S_camb = (0, 0.1, 0.01))"
      ],
      "execution_count": 7,
      "outputs": [
        {
          "output_type": "display_data",
          "data": {
            "application/vnd.jupyter.widget-view+json": {
              "model_id": "3f5ae7cbdc09458eae788f91d6f519b0",
              "version_minor": 0,
              "version_major": 2
            },
            "text/plain": [
              "interactive(children=(IntSlider(value=2011, description='year', max=2021, min=2011), FloatSlider(value=0.0, de…"
            ]
          },
          "metadata": {}
        },
        {
          "output_type": "execute_result",
          "data": {
            "text/plain": [
              "<function __main__.plot>"
            ]
          },
          "metadata": {},
          "execution_count": 7
        }
      ]
    },
    {
      "cell_type": "markdown",
      "metadata": {
        "deletable": false,
        "editable": false,
        "nbgrader": {
          "cell_type": "markdown",
          "checksum": "c024a8a5864e12debafec52174d7341a",
          "grade": false,
          "grade_id": "cell-19fdd0fd825e2005",
          "locked": true,
          "schema_version": 3,
          "solution": false
        },
        "id": "OW1Tw5vgWtrv"
      },
      "source": [
        "## Exercise 08.4 (crime reports by location)\n",
        "\n",
        "### Background\n",
        "\n",
        "Your task is to produce a crime report data plot in the neighborhood of your college, by reported crime\n",
        "category.\n",
        "\n",
        "We can get crime data in the UK from the police data systems using what is known as a *REST API*,\n",
        "and turn the data into a list of Python dictionaries. Each entry in the list is a police report \n",
        "(an entry is a Python dictionary detailing the report).\n",
        "\n",
        "The first step is to import the modules we will be using:"
      ]
    },
    {
      "cell_type": "code",
      "metadata": {
        "id": "fUg6D-syWtrw"
      },
      "source": [
        "!pip install requests"
      ],
      "execution_count": null,
      "outputs": []
    },
    {
      "cell_type": "code",
      "metadata": {
        "deletable": false,
        "editable": false,
        "nbgrader": {
          "cell_type": "code",
          "checksum": "635a33b775f96c81101d782a20cc1e0d",
          "grade": false,
          "grade_id": "cell-93e17ffdff5e0ac9",
          "locked": true,
          "schema_version": 3,
          "solution": false
        },
        "id": "Amr6CzUMWtrw"
      },
      "source": [
        "import json\n",
        "import requests"
      ],
      "execution_count": null,
      "outputs": []
    },
    {
      "cell_type": "markdown",
      "metadata": {
        "deletable": false,
        "editable": false,
        "nbgrader": {
          "cell_type": "markdown",
          "checksum": "236f60bc32cc2e90a0fb16d1cc12db32",
          "grade": false,
          "grade_id": "cell-076189a984888933",
          "locked": true,
          "schema_version": 3,
          "solution": false
        },
        "id": "iBTuYVdhWtrx"
      },
      "source": [
        "The service https://data.police.uk has an interface where we can add specific strings to the URL (web address) to define what data we are intersted in, and the police server will return our requested data. The format is\n",
        "\n",
        "    https://data.police.uk/api/crimes-street/all-crime?lat=52.629729&lng=-1.131592&date=2017-01\n",
        "    \n",
        "This return crimes reports within a mile radius of the geographic coordinate point for the month `2017-01`.          \n",
        "\n",
        "Below we create this URL string to include a part of the Cambridge city centre. You can modify this for your own college or other areas of interest (Google Maps is a handy way to get the geographic coordinates)."
      ]
    },
    {
      "cell_type": "code",
      "metadata": {
        "deletable": false,
        "editable": false,
        "nbgrader": {
          "cell_type": "code",
          "checksum": "90239485428af6079b3f83a770bd8ccb",
          "grade": false,
          "grade_id": "cell-b59145a288b844f9",
          "locked": true,
          "schema_version": 3,
          "solution": false
        },
        "id": "5UQRbe5zWtrx"
      },
      "source": [
        "# A point in the Cambridge city centre\n",
        "long, lat = 52.205277, 0.119117\n",
        "\n",
        "# year-month of interest\n",
        "year_month = '2019-05'\n",
        "\n",
        "# Construct request URL string\n",
        "url = \"https://data.police.uk/api/crimes-street/all-crime?lat={}&lng={}&date={}\".format(long, lat, year_month)\n",
        "\n",
        "# Fetch data from https://data.police.uk\n",
        "r = requests.get(url)"
      ],
      "execution_count": null,
      "outputs": []
    },
    {
      "cell_type": "markdown",
      "metadata": {
        "deletable": false,
        "editable": false,
        "nbgrader": {
          "cell_type": "markdown",
          "checksum": "5bca2739633b6258a7bc93b130237b85",
          "grade": false,
          "grade_id": "cell-4aca875e8d686608",
          "locked": true,
          "schema_version": 3,
          "solution": false
        },
        "id": "mUQO3qLaWtrx"
      },
      "source": [
        "The following converts the fetched data into a list of dictionaries:"
      ]
    },
    {
      "cell_type": "code",
      "metadata": {
        "id": "YufMxVPfWtry"
      },
      "source": [
        "crime_data = r.json()"
      ],
      "execution_count": null,
      "outputs": []
    },
    {
      "cell_type": "markdown",
      "metadata": {
        "id": "MIYAwSoLWtry"
      },
      "source": [
        "To get an idea of how the data is arranged, we can look at the first report in the list. To make the displayed data easier to read, we use the 'pretty print' module `pprint`."
      ]
    },
    {
      "cell_type": "code",
      "metadata": {
        "id": "TU-KcyzSWtry"
      },
      "source": [
        "import pprint\n",
        "if crime_data:\n",
        "    pprint.pprint(crime_data[0])"
      ],
      "execution_count": null,
      "outputs": []
    },
    {
      "cell_type": "markdown",
      "metadata": {
        "id": "NHJvCX0fWtrz"
      },
      "source": [
        "Each dictionary item corresponds to a reported crime."
      ]
    },
    {
      "cell_type": "markdown",
      "metadata": {
        "id": "7TK99cSJWtrz"
      },
      "source": [
        "### Task\n",
        "\n",
        "Produce a bar chart of the number of reports in different categories. Run your program for different parts of Cambridge, starting with the area around your college, and for different months and years.\n",
        "\n",
        "#### Hints\n",
        "\n",
        "Create an empty dictionary, which will eventually map the report category to the number of incidents:"
      ]
    },
    {
      "cell_type": "code",
      "metadata": {
        "id": "ZsHX1cj9Wtrz"
      },
      "source": [
        "categories_freq = {}"
      ],
      "execution_count": null,
      "outputs": []
    },
    {
      "cell_type": "markdown",
      "metadata": {
        "id": "1jR814qLWtr3"
      },
      "source": [
        "Iterate over all reports in the list, and extract the category string from each report. If the category string (the 'key') is already in the dictionary increment the associated counter. Otherwise add the key to the dictionary, and associate the value 1."
      ]
    },
    {
      "cell_type": "code",
      "metadata": {
        "id": "hgDkacHgWtr3"
      },
      "source": [
        "# Iterate over all reports\n",
        "for report in crime_data:\n",
        "    # Get category type\n",
        "    category = report['category']\n",
        "    \n",
        "    if category in categories_freq:\n",
        "        # Increment counter here\n",
        "        pass  # This can be removed once the 'if' block has a body\n",
        "    else:\n",
        "        # Add category to dictionary here\n",
        "        pass  # This can be removed once the 'else' block has a body"
      ],
      "execution_count": null,
      "outputs": []
    },
    {
      "cell_type": "markdown",
      "metadata": {
        "id": "4tuuvLAwWtr3"
      },
      "source": [
        "The crime categories are the dictionary keys, which can be extracted using\n",
        "```python\n",
        "list(categories_freq.keys())\n",
        "```"
      ]
    },
    {
      "cell_type": "markdown",
      "metadata": {
        "id": "BSLAuEkMWtr3"
      },
      "source": [
        "When adding the tick labels (crime categories), it may be necessary to rotate the labels, e.g.:\n",
        "```python\n",
        "plt.xticks(x_pos, categories, rotation='vertical')\n",
        "```"
      ]
    },
    {
      "cell_type": "markdown",
      "metadata": {
        "id": "IJhk3-huWtr4"
      },
      "source": [
        "### Extensions (optional)\n",
        "\n",
        "\n",
        "1. Probe the retrieved data to build a set of all crime categories in the data set.\n",
        "2. Explore the temporal (time) aspect of the data. Thinks of ways to represent the change in reported incident \n",
        "   types over time.\n",
        "3. Explore what other data you can retriev from https://data.police.uk/docs/."
      ]
    },
    {
      "cell_type": "markdown",
      "metadata": {
        "id": "mBokqlikWtr4"
      },
      "source": [
        "### Solution\n",
        "\n",
        "There are many ways this exercise could be programmed, and there is some choice in data structures.\n",
        "\n",
        "Build (a) a list of crime categories and (b) the number of reports in each category:"
      ]
    },
    {
      "cell_type": "code",
      "metadata": {
        "deletable": false,
        "nbgrader": {
          "cell_type": "code",
          "checksum": "145d881634d2ee6b1b99db3d6e93f9ba",
          "grade": false,
          "grade_id": "cell-46ab1ae5cb776dfd",
          "locked": false,
          "schema_version": 3,
          "solution": true
        },
        "id": "bmcZwhiGWtr4",
        "colab": {
          "base_uri": "https://localhost:8080/"
        },
        "outputId": "6a3bb6a3-07ff-406c-f41b-36309ba61970"
      },
      "source": [
        "!pip install requests\n",
        "import json\n",
        "import requests\n",
        "import pprint\n",
        "\n",
        "# A point in the Cambridge city centre\n",
        "long, lat = 52.205277, 0.119117\n",
        "# year-month of interest\n",
        "year_month = '2019-05'\n",
        "# Construct request URL string\n",
        "url = \"https://data.police.uk/api/crimes-street/all-crime?lat={}&lng={}&date={}\".format(long, lat, year_month)\n",
        "# Fetch data from https://data.police.uk\n",
        "r = requests.get(url)\n",
        "crime_data = r.json()\n",
        "\n",
        "# Empty dictionary\n",
        "categories_freq = {}\n",
        "\n",
        "# Iterate over all reports\n",
        "for report in crime_data:\n",
        "    # Get category type\n",
        "    category = report['category']\n",
        "    if category in categories_freq:\n",
        "        # Increment counter here\n",
        "        categories_freq[category] += 1\n",
        "    else:\n",
        "        categories_freq[category] = 1\n",
        "# Extract a list of crime categories\n",
        "crime_categories = list(categories_freq.keys())\n",
        "number_of_reports = list(categories_freq.values())\n",
        "\n",
        "print(categories_freq)\n",
        "print(crime_categories)\n",
        "print(number_of_reports)"
      ],
      "execution_count": null,
      "outputs": [
        {
          "output_type": "stream",
          "name": "stdout",
          "text": [
            "Requirement already satisfied: requests in /usr/local/lib/python3.7/dist-packages (2.23.0)\n",
            "Requirement already satisfied: chardet<4,>=3.0.2 in /usr/local/lib/python3.7/dist-packages (from requests) (3.0.4)\n",
            "Requirement already satisfied: urllib3!=1.25.0,!=1.25.1,<1.26,>=1.21.1 in /usr/local/lib/python3.7/dist-packages (from requests) (1.24.3)\n",
            "Requirement already satisfied: idna<3,>=2.5 in /usr/local/lib/python3.7/dist-packages (from requests) (2.10)\n",
            "Requirement already satisfied: certifi>=2017.4.17 in /usr/local/lib/python3.7/dist-packages (from requests) (2021.5.30)\n",
            "{'anti-social-behaviour': 148, 'bicycle-theft': 179, 'burglary': 27, 'criminal-damage-arson': 54, 'drugs': 7, 'other-theft': 72, 'possession-of-weapons': 5, 'public-order': 43, 'robbery': 7, 'shoplifting': 78, 'theft-from-the-person': 20, 'vehicle-crime': 31, 'violent-crime': 140, 'other-crime': 12}\n",
            "['anti-social-behaviour', 'bicycle-theft', 'burglary', 'criminal-damage-arson', 'drugs', 'other-theft', 'possession-of-weapons', 'public-order', 'robbery', 'shoplifting', 'theft-from-the-person', 'vehicle-crime', 'violent-crime', 'other-crime']\n",
            "[148, 179, 27, 54, 7, 72, 5, 43, 7, 78, 20, 31, 140, 12]\n"
          ]
        }
      ]
    },
    {
      "cell_type": "markdown",
      "metadata": {
        "id": "9LPpJ2ixWtr4"
      },
      "source": [
        "Produce a bar chart:"
      ]
    },
    {
      "cell_type": "code",
      "metadata": {
        "deletable": false,
        "nbgrader": {
          "cell_type": "code",
          "checksum": "bbdc0b6b0c011ea9bc0ae07a20c8d1cc",
          "grade": false,
          "grade_id": "cell-97e738a80f71d412",
          "locked": false,
          "schema_version": 3,
          "solution": true
        },
        "id": "QU0vJzbgWtr4",
        "colab": {
          "base_uri": "https://localhost:8080/",
          "height": 525
        },
        "outputId": "16903ed7-5211-4c71-b709-bd4e1894ab59"
      },
      "source": [
        "# Create an array with the position of each bar along the x-axis\n",
        "x_pos = np.arange(len(categories_freq))\n",
        "\n",
        "# Produce bar plot\n",
        "plt.figure(figsize = (10, 6))\n",
        "plt.bar(x_pos, number_of_reports, align='center');\n",
        "\n",
        "# Replace the x ticks with the Tripos name, and rotate labels 30 degrees\n",
        "plt.xticks(x_pos, crime_categories, rotation=70)\n",
        "\n",
        "# Add axis labels \n",
        "plt.xlabel('Crime categories')\n",
        "plt.ylabel('Number of reports')\n",
        "plt.title('Bar graph showing Number of reports for each Crime category')\n",
        "\n",
        "plt.figure(figsize = (16, 12))\n",
        "plt.show()"
      ],
      "execution_count": null,
      "outputs": [
        {
          "output_type": "display_data",
          "data": {
            "image/png": "[encoded data removed]",
            "text/plain": [
              "<Figure size 720x432 with 1 Axes>"
            ]
          },
          "metadata": {
            "needs_background": "light"
          }
        },
        {
          "output_type": "display_data",
          "data": {
            "text/plain": [
              "<Figure size 1152x864 with 0 Axes>"
            ]
          },
          "metadata": {}
        }
      ]
    },
    {
      "cell_type": "markdown",
      "metadata": {
        "id": "sJxaVBdZWtr4"
      },
      "source": [
        "Here is a compact version using dictionary member functions (it will be visible when solutions are released)."
      ]
    },
    {
      "cell_type": "code",
      "metadata": {
        "deletable": false,
        "nbgrader": {
          "cell_type": "code",
          "checksum": "55eeb841995a9fb1f052bda09e4542fd",
          "grade": false,
          "grade_id": "cell-b0fc6fd94f3c06b9",
          "locked": false,
          "schema_version": 3,
          "solution": true
        },
        "id": "zwKNN2sUWtr4"
      },
      "source": [
        "# YOUR CODE HERE\n",
        "raise NotImplementedError()"
      ],
      "execution_count": null,
      "outputs": []
    }
  ]
}