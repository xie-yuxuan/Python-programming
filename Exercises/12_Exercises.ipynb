{
  "nbformat": 4,
  "nbformat_minor": 0,
  "metadata": {
    "kernelspec": {
      "display_name": "Python 3",
      "language": "python",
      "name": "python3"
    },
    "language_info": {
      "codemirror_mode": {
        "name": "ipython",
        "version": 3
      },
      "file_extension": ".py",
      "mimetype": "text/x-python",
      "name": "python",
      "nbconvert_exporter": "python",
      "pygments_lexer": "ipython3",
      "version": "3.8.5"
    },
    "colab": {
      "name": "Copy of 12 Exercises.ipynb",
      "provenance": []
    }
  },
  "cells": [
    {
      "cell_type": "markdown",
      "metadata": {
        "id": "ymYcHwVJPaXf"
      },
      "source": [
        "## Exercise 12.1\n",
        "\n",
        "Create a class to represent vectors of arbitrary length and which is initialised with a list of values, e.g.:\n",
        "```python\n",
        "x = MyVector([0, 2, 4])\n",
        "```\n",
        "\n",
        "Equip the class with methods that:\n",
        "\n",
        "1. Return the length of the vector (use name `size`)\n",
        "2. Compute the norm of the vector $\\sqrt{x \\cdot x}$ (use name `norm`)\n",
        "3. Compute the dot product of the vector with another vector (use name `dot`)\n",
        "\n",
        "Test your implementation using two vectors of length 3. To help you get started, a skeleton of the class is provided below. Don't forget to use `self` where necessary."
      ]
    },
    {
      "cell_type": "code",
      "metadata": {
        "id": "vjDuiZZTPaXm"
      },
      "source": [
        "class MyVector:\n",
        "    \"\"\"A vector object that can return its size and norm, and can compute the dot product \n",
        "    with another vector  \"\"\"\n",
        "    \n",
        "    def __init__(self, x):\n",
        "        self.x = x\n",
        "        \n",
        "    # Return length of vector\n",
        "    def size(self):\n",
        "        # Add your code here\n",
        "        pass  # This can be removed once the body is added\n",
        "    \n",
        "    # This allows access by index, e.g. y[2]\n",
        "    def __getitem__(self, index):\n",
        "        return self.x[index]\n",
        "\n",
        "    # Return norm of vector\n",
        "    def norm(self):\n",
        "        # Add your code here\n",
        "        pass  # This can be removed once the body is added\n",
        "    \n",
        "    # Return dot product of vector with another vector\n",
        "    def dot(self, other):\n",
        "        # Add your code here\n",
        "        pass  # This can be removed once the body is added"
      ],
      "execution_count": null,
      "outputs": []
    },
    {
      "cell_type": "markdown",
      "metadata": {
        "id": "dJz02Yw7PaXn"
      },
      "source": [
        "### Solution"
      ]
    },
    {
      "cell_type": "code",
      "metadata": {
        "deletable": false,
        "nbgrader": {
          "cell_type": "code",
          "checksum": "713c9493be9ec9fc9aca8f6f8f39c121",
          "grade": false,
          "grade_id": "cell-ff4d6cba19bb1b8e",
          "locked": false,
          "schema_version": 3,
          "solution": true
        },
        "id": "rKrsEUkRPaXo"
      },
      "source": [
        "import math  # Use this to get the sqrt\n",
        "import numpy as np\n",
        "\n",
        "class MyVector:\n",
        "    \"\"\"A vector object that can return its size and norm, and can compute the dot product \n",
        "    with another vector  \"\"\"\n",
        "\n",
        "    def __init__(self, x):\n",
        "        self.x = x\n",
        "\n",
        "    def size(self):\n",
        "        return len(self.x)\n",
        "\n",
        "    def __getitem__(self, index):\n",
        "        return self.x[index]\n",
        "    \n",
        "    def norm(self):\n",
        "        return math.sqrt(sum(i**2 for i in self.x))     \n",
        "\n",
        "    def dot(self, other):\n",
        "        return sum(self.x[i]*other[i] for i in range(len(self.x)))"
      ],
      "execution_count": null,
      "outputs": []
    },
    {
      "cell_type": "code",
      "metadata": {
        "deletable": false,
        "editable": false,
        "nbgrader": {
          "cell_type": "code",
          "checksum": "1ed85d56501ddc8dc87d5784a25a3580",
          "grade": true,
          "grade_id": "cell-b601b5cc8cf8ab44",
          "locked": true,
          "points": 0,
          "schema_version": 3,
          "solution": false
        },
        "id": "ODnEnmamPaXp"
      },
      "source": [
        "# Create two vectors\n",
        "u = MyVector([1, 1, 2])\n",
        "v = MyVector([2, 1, 1])\n",
        "\n",
        "assert u.size() == 3\n",
        "assert round(u.norm() - 2.449489742783178) == 0.0\n",
        "assert round(u.dot(v) - 5.0, 10) == 0.0 "
      ],
      "execution_count": null,
      "outputs": []
    },
    {
      "cell_type": "markdown",
      "metadata": {
        "deletable": false,
        "editable": false,
        "nbgrader": {
          "cell_type": "markdown",
          "checksum": "5da545895b150f78744a35c41d6eb9f4",
          "grade": false,
          "grade_id": "cell-d743191a516ffa05",
          "locked": true,
          "schema_version": 3,
          "solution": false
        },
        "id": "nD219bu7PaXp"
      },
      "source": [
        "## Exercise 12.2\n",
        "\n",
        "1. Create a class for holding a student record entry. It should have the following attributes:\n",
        "   - Surname\n",
        "   - Forename\n",
        "   - Birth year\n",
        "   - Tripos year\n",
        "   - College\n",
        "   - CRSid (optional field)\n",
        "1. Equip your class with the method '`age`' that returns the age of the student in whole years\n",
        "1. Equip your class with the method '`__repr__`' such using `print` on a student record displays with the format\n",
        "\n",
        "       Surname: Bloggs, Forename: Andrea, College: Churchill\n",
        "\n",
        "1. Equip your class with the method `__lt__(self, other)` so that a list of record entries can be sorted by \n",
        "   (surname, forename) using the Python built-in sort function. \n",
        "   \n",
        "   Create a list of entries and test the sorting. Make sure you have two entries with the same\n",
        "   surname.\n",
        "\n",
        "> Recall that the methods starting with `__`, e.g. `__lt__` and `__repr__`, should **not** be called directly. \n",
        "> Python with map them to other operations, e.g. `__repr__` is called when using `print`, and `__lt__` is called \n",
        "> when using `<`. These functions must have a return value.\n",
        "\n",
        "*Hint:* To get the current year:"
      ]
    },
    {
      "cell_type": "code",
      "metadata": {
        "id": "2MSqf5AEPaXq",
        "colab": {
          "base_uri": "https://localhost:8080/"
        },
        "outputId": "9fc971c9-f415-4785-8c84-08574baeaaa1"
      },
      "source": [
        "import datetime\n",
        "year = datetime.date.today().year\n",
        "print(year)"
      ],
      "execution_count": null,
      "outputs": [
        {
          "output_type": "stream",
          "name": "stdout",
          "text": [
            "2021\n"
          ]
        }
      ]
    },
    {
      "cell_type": "markdown",
      "metadata": {
        "id": "quFVV7AaPaXr"
      },
      "source": [
        "### Solution"
      ]
    },
    {
      "cell_type": "code",
      "metadata": {
        "deletable": false,
        "nbgrader": {
          "cell_type": "code",
          "checksum": "254313b9c258e03732f4a60e5dee0b78",
          "grade": false,
          "grade_id": "cell-6e857f6089fe0ba8",
          "locked": false,
          "schema_version": 3,
          "solution": true
        },
        "id": "K9kPlNzTPaXs",
        "colab": {
          "base_uri": "https://localhost:8080/"
        },
        "outputId": "5128ce9a-f8dc-41b9-e81c-9df2235c385f"
      },
      "source": [
        "import datetime \n",
        "class StudentEntry:\n",
        "    def __init__(self, surname, forename, birth_year, year, college, crsid=None):\n",
        "        self.surname = surname\n",
        "        self.forename = forename\n",
        "        self.birth_year = birth_year\n",
        "        self.year = year\n",
        "        self.college = college\n",
        "        self.crsid = crsid\n",
        "\n",
        "    def age(self):\n",
        "        return datetime.date.today().year - self.birth_year\n",
        "\n",
        "    def __repr__(self):\n",
        "        return \"Surname: \" + str(self.surname) + \", \" + \"Forename: \" + str(self.forename) + \", \" + \"College: \" + str(self.college)\n",
        "\n",
        "    # Custom '<' operator (method)\n",
        "    def __lt__(self, other):\n",
        "        if self.surname != other.surname:\n",
        "            return self.surname < other.surname\n",
        "        else:\n",
        "            return self.forename < other.forename\n",
        "\n",
        "s0 = StudentEntry(\"Bloggs\", \"Andrea\", 1996, 1, \"Churchill\", \"ab1001\")       \n",
        "s1 = StudentEntry(\"Reali\", \"John\", 1997, 1, \"Corpus Christi\")       \n",
        "s2 = StudentEntry(\"Bacon\", \"Kevin\", 1996, 1, \"Newnham\")\n",
        "s3 = StudentEntry(\"Bacon\", \"Alexander\", 1996, 1, \"Queens\")\n",
        "\n",
        "s = [s0, s1, s2, s3]\n",
        "s.sort()\n",
        "print(s)"
      ],
      "execution_count": null,
      "outputs": [
        {
          "output_type": "stream",
          "name": "stdout",
          "text": [
            "[Surname: Bacon, Forename: Alexander, College: Queens, Surname: Bacon, Forename: Kevin, College: Newnham, Surname: Bloggs, Forename: Andrea, College: Churchill, Surname: Reali, Forename: John, College: Corpus Christi]\n"
          ]
        }
      ]
    },
    {
      "cell_type": "code",
      "metadata": {
        "deletable": false,
        "editable": false,
        "nbgrader": {
          "cell_type": "code",
          "checksum": "d60f32b3e00d631930ecf9478a0336bb",
          "grade": true,
          "grade_id": "cell-ce8aafb3e627dd86",
          "locked": true,
          "points": 0,
          "schema_version": 3,
          "solution": false
        },
        "id": "3lbLv-21PaXs"
      },
      "source": [
        "s0 = StudentEntry(\"Bloggs\", \"Andrea\", 1996, 1, \"Churchill\", \"ab1001\")       \n",
        "s1 = StudentEntry(\"Reali\", \"John\", 1997, 1, \"Corpus Christi\")       \n",
        "s2 = StudentEntry(\"Bacon\", \"Kevin\", 1996, 1, \"Newnham\")\n",
        "s3 = StudentEntry(\"Bacon\", \"Alexander\", 1996, 1, \"Queens\")\n",
        "\n",
        "assert s0 < s1\n",
        "assert s0 > s2\n",
        "assert s3 < s2\n",
        "assert s0.age() ==  datetime.date.today().year - 1996 \n",
        "assert s1.age() ==  datetime.date.today().year - 1997\n",
        "assert str(s1) == \"Surname: Reali, Forename: John, College: Corpus Christi\"\n",
        "\n",
        "# Test sorting\n",
        "s = [s0, s1, s2, s3]\n",
        "s.sort()\n",
        "for earlier, later in zip(s, s[1:]):\n",
        "    assert earlier.surname <= later.surname\n",
        "    if earlier.surname == later.surname:\n",
        "        assert earlier.forename <= later.forename"
      ],
      "execution_count": null,
      "outputs": []
    }
  ]
}