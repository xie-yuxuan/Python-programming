{
  "nbformat": 4,
  "nbformat_minor": 0,
  "metadata": {
    "kernelspec": {
      "display_name": "Python 3",
      "language": "python",
      "name": "python3"
    },
    "language_info": {
      "codemirror_mode": {
        "name": "ipython",
        "version": 3
      },
      "file_extension": ".py",
      "mimetype": "text/x-python",
      "name": "python",
      "nbconvert_exporter": "python",
      "pygments_lexer": "ipython3",
      "version": "3.8.5"
    },
    "colab": {
      "name": "Copy of 09 Exercises.ipynb",
      "provenance": []
    }
  },
  "cells": [
    {
      "cell_type": "markdown",
      "metadata": {
        "id": "UUKnRRwXrzoY"
      },
      "source": [
        "## Exercise 09.1 (checking data validity)\n",
        "\n",
        "The Fibonacci series is valid only for $n \\ge 0$. Add to the Fibonacci function in this notebook a check that raises an exception if $n < 0$. Try some invalid data cases to check that an exception is raised.\n",
        "\n",
        "*Optional:* Use `pytest` to test that an exception *is* raised for some $n < 0$ cases."
      ]
    },
    {
      "cell_type": "code",
      "metadata": {
        "deletable": false,
        "nbgrader": {
          "cell_type": "code",
          "checksum": "3bf4474f254eb94df13368bcbdfbbd25",
          "grade": false,
          "grade_id": "cell-982c3611466532a2",
          "locked": false,
          "schema_version": 3,
          "solution": true
        },
        "id": "Df4FIs9Urzof",
        "colab": {
          "base_uri": "https://localhost:8080/"
        },
        "outputId": "50ebf502-5e22-4b74-bd08-961c3fa9fd4b"
      },
      "source": [
        "def f(n): \n",
        "    \"Compute the nth Fibonacci number using recursion\"\n",
        "    try:\n",
        "      if n < 0:\n",
        "        raise ValueError(\"n has to be >= 0\")\n",
        "      elif n == 0:\n",
        "        return 0  # This doesn't call f, so it breaks out of the recursion loop\n",
        "      elif n == 1:\n",
        "        return 1  # This doesn't call f, so it breaks out of the recursion loop\n",
        "      else:\n",
        "        return f(n - 1) + f(n - 2)  # This calls f for n-1 and n-2 (recursion), and returns the sum\n",
        "    except:\n",
        "      return \"The Fibonacci series is valid only for n ≥ 0. Please try again\"\n",
        "      \n",
        "print(f(10))"
      ],
      "execution_count": null,
      "outputs": [
        {
          "output_type": "stream",
          "name": "stdout",
          "text": [
            "55\n"
          ]
        }
      ]
    },
    {
      "cell_type": "code",
      "metadata": {
        "deletable": false,
        "editable": false,
        "nbgrader": {
          "cell_type": "code",
          "checksum": "9f9ac524212d33e97978ac73892d6d39",
          "grade": true,
          "grade_id": "cell-9b97ea3e85d77f4a",
          "locked": true,
          "points": 0,
          "schema_version": 3,
          "solution": false
        },
        "id": "VU8XOBMVrzoi",
        "colab": {
          "base_uri": "https://localhost:8080/",
          "height": 381
        },
        "outputId": "b8d3ba2e-a386-4fd5-a2fa-b6e8f4497b56"
      },
      "source": [
        "# Perform some tests    \n",
        "assert f(0) == 0\n",
        "assert f(1) == 1\n",
        "assert f(2) == 1\n",
        "assert f(3) == 2\n",
        "assert f(10) == 55\n",
        "assert f(15) == 610\n",
        "\n",
        "# Check that ValueError is raised for n < 0\n",
        "import pytest\n",
        "with pytest.raises(ValueError):\n",
        "    f(-1)\n",
        "with pytest.raises(ValueError):\n",
        "    f(-2)"
      ],
      "execution_count": null,
      "outputs": [
        {
          "output_type": "error",
          "ename": "Failed",
          "evalue": "ignored",
          "traceback": [
            "\u001b[0;31m---------------------------------------------------------------------------\u001b[0m",
            "\u001b[0;31mFailed\u001b[0m                                    Traceback (most recent call last)",
            "\u001b[0;32m<ipython-input-18-cecf8c95d932>\u001b[0m in \u001b[0;36m<module>\u001b[0;34m()\u001b[0m\n\u001b[1;32m     10\u001b[0m \u001b[0;32mimport\u001b[0m \u001b[0mpytest\u001b[0m\u001b[0;34m\u001b[0m\u001b[0;34m\u001b[0m\u001b[0m\n\u001b[1;32m     11\u001b[0m \u001b[0;32mwith\u001b[0m \u001b[0mpytest\u001b[0m\u001b[0;34m.\u001b[0m\u001b[0mraises\u001b[0m\u001b[0;34m(\u001b[0m\u001b[0mValueError\u001b[0m\u001b[0;34m)\u001b[0m\u001b[0;34m:\u001b[0m\u001b[0;34m\u001b[0m\u001b[0;34m\u001b[0m\u001b[0m\n\u001b[0;32m---> 12\u001b[0;31m     \u001b[0mf\u001b[0m\u001b[0;34m(\u001b[0m\u001b[0;34m-\u001b[0m\u001b[0;36m1\u001b[0m\u001b[0;34m)\u001b[0m\u001b[0;34m\u001b[0m\u001b[0;34m\u001b[0m\u001b[0m\n\u001b[0m\u001b[1;32m     13\u001b[0m \u001b[0;32mwith\u001b[0m \u001b[0mpytest\u001b[0m\u001b[0;34m.\u001b[0m\u001b[0mraises\u001b[0m\u001b[0;34m(\u001b[0m\u001b[0mValueError\u001b[0m\u001b[0;34m)\u001b[0m\u001b[0;34m:\u001b[0m\u001b[0;34m\u001b[0m\u001b[0;34m\u001b[0m\u001b[0m\n\u001b[1;32m     14\u001b[0m     \u001b[0mf\u001b[0m\u001b[0;34m(\u001b[0m\u001b[0;34m-\u001b[0m\u001b[0;36m2\u001b[0m\u001b[0;34m)\u001b[0m\u001b[0;34m\u001b[0m\u001b[0;34m\u001b[0m\u001b[0m\n",
            "\u001b[0;32m/usr/local/lib/python3.7/dist-packages/_pytest/python_api.py\u001b[0m in \u001b[0;36m__exit__\u001b[0;34m(self, *tp)\u001b[0m\n\u001b[1;32m    665\u001b[0m         \u001b[0m__tracebackhide__\u001b[0m \u001b[0;34m=\u001b[0m \u001b[0;32mTrue\u001b[0m\u001b[0;34m\u001b[0m\u001b[0;34m\u001b[0m\u001b[0m\n\u001b[1;32m    666\u001b[0m         \u001b[0;32mif\u001b[0m \u001b[0mtp\u001b[0m\u001b[0;34m[\u001b[0m\u001b[0;36m0\u001b[0m\u001b[0;34m]\u001b[0m \u001b[0;32mis\u001b[0m \u001b[0;32mNone\u001b[0m\u001b[0;34m:\u001b[0m\u001b[0;34m\u001b[0m\u001b[0;34m\u001b[0m\u001b[0m\n\u001b[0;32m--> 667\u001b[0;31m             \u001b[0mfail\u001b[0m\u001b[0;34m(\u001b[0m\u001b[0mself\u001b[0m\u001b[0;34m.\u001b[0m\u001b[0mmessage\u001b[0m\u001b[0;34m)\u001b[0m\u001b[0;34m\u001b[0m\u001b[0;34m\u001b[0m\u001b[0m\n\u001b[0m\u001b[1;32m    668\u001b[0m         \u001b[0mself\u001b[0m\u001b[0;34m.\u001b[0m\u001b[0mexcinfo\u001b[0m\u001b[0;34m.\u001b[0m\u001b[0m__init__\u001b[0m\u001b[0;34m(\u001b[0m\u001b[0mtp\u001b[0m\u001b[0;34m)\u001b[0m\u001b[0;34m\u001b[0m\u001b[0;34m\u001b[0m\u001b[0m\n\u001b[1;32m    669\u001b[0m         \u001b[0msuppress_exception\u001b[0m \u001b[0;34m=\u001b[0m \u001b[0missubclass\u001b[0m\u001b[0;34m(\u001b[0m\u001b[0mself\u001b[0m\u001b[0;34m.\u001b[0m\u001b[0mexcinfo\u001b[0m\u001b[0;34m.\u001b[0m\u001b[0mtype\u001b[0m\u001b[0;34m,\u001b[0m \u001b[0mself\u001b[0m\u001b[0;34m.\u001b[0m\u001b[0mexpected_exception\u001b[0m\u001b[0;34m)\u001b[0m\u001b[0;34m\u001b[0m\u001b[0;34m\u001b[0m\u001b[0m\n",
            "\u001b[0;32m/usr/local/lib/python3.7/dist-packages/_pytest/outcomes.py\u001b[0m in \u001b[0;36mfail\u001b[0;34m(msg, pytrace)\u001b[0m\n\u001b[1;32m     95\u001b[0m     \"\"\"\n\u001b[1;32m     96\u001b[0m     \u001b[0m__tracebackhide__\u001b[0m \u001b[0;34m=\u001b[0m \u001b[0;32mTrue\u001b[0m\u001b[0;34m\u001b[0m\u001b[0;34m\u001b[0m\u001b[0m\n\u001b[0;32m---> 97\u001b[0;31m     \u001b[0;32mraise\u001b[0m \u001b[0mFailed\u001b[0m\u001b[0;34m(\u001b[0m\u001b[0mmsg\u001b[0m\u001b[0;34m=\u001b[0m\u001b[0mmsg\u001b[0m\u001b[0;34m,\u001b[0m \u001b[0mpytrace\u001b[0m\u001b[0;34m=\u001b[0m\u001b[0mpytrace\u001b[0m\u001b[0;34m)\u001b[0m\u001b[0;34m\u001b[0m\u001b[0;34m\u001b[0m\u001b[0m\n\u001b[0m\u001b[1;32m     98\u001b[0m \u001b[0;34m\u001b[0m\u001b[0m\n\u001b[1;32m     99\u001b[0m \u001b[0;34m\u001b[0m\u001b[0m\n",
            "\u001b[0;31mFailed\u001b[0m: DID NOT RAISE <class 'ValueError'>"
          ]
        }
      ]
    },
    {
      "cell_type": "markdown",
      "metadata": {
        "deletable": false,
        "editable": false,
        "nbgrader": {
          "cell_type": "markdown",
          "checksum": "e95262d50b5fedef7da21e1741ff513d",
          "grade": false,
          "grade_id": "cell-69c78c0ffc19db36",
          "locked": true,
          "schema_version": 3,
          "solution": false
        },
        "id": "dAOtBaysrzoj"
      },
      "source": [
        "## Exercise 09.2 (raising exceptions)\n",
        "\n",
        "Modify your program from the bisection exercise in Activity 04 to raise an error if the maximum number of iterations is exceeded. Reduce the maximum allowed iterations to test that an exception is raised.\n",
        "\n",
        "Add any other checks on the input data that you think are appropriate."
      ]
    },
    {
      "cell_type": "code",
      "metadata": {
        "deletable": false,
        "nbgrader": {
          "cell_type": "code",
          "checksum": "54a2b2c493794b64ac8c709d3b554426",
          "grade": false,
          "grade_id": "cell-ca2c3ee62ad3b956",
          "locked": false,
          "schema_version": 3,
          "solution": true
        },
        "id": "JtXivhNMrzok",
        "colab": {
          "base_uri": "https://localhost:8080/"
        },
        "outputId": "1ac4456f-ce4a-4e22-bf25-2ba261626037"
      },
      "source": [
        "def my_f(x):\n",
        "    \"Evaluate polynomial function\"\n",
        "    return x**3 - 6*x**2 + 4*x + 12\n",
        "\n",
        "def compute_root(f, x0, x1, tol, max_it):\n",
        "\n",
        "    try:\n",
        "      \"Compute roots of a function using bisection\"\n",
        "      error = tol + 1\n",
        "      it = 0\n",
        "      while error > tol:\n",
        "          it += 1\n",
        "          x_mid = (x0 + x1)/2\n",
        "          #print(\"x_mid is\", x_mid)\n",
        "          f0 = my_f(x0)\n",
        "          f_mid = my_f(x_mid)\n",
        "          #print(\"f_mid is\", f_mid)\n",
        "\n",
        "          if f0*f_mid < 0:\n",
        "            x1 = x_mid\n",
        "          else:\n",
        "            x0 = x_mid\n",
        "\n",
        "          if abs(f_mid) < tol:\n",
        "            break\n",
        "          else:\n",
        "            pass\n",
        "\n",
        "          if it > max_it:\n",
        "            raise ValueError(\"max iterations reached\")\n",
        "      return x_mid, f_mid, it\n",
        "\n",
        "    except:\n",
        "      return \"Oops, iteration count is very large. Breaking out of while loop.\"\n",
        "\n",
        "print(compute_root(my_f, x0=3, x1=6, tol=1.0e-6, max_it=30))"
      ],
      "execution_count": null,
      "outputs": [
        {
          "output_type": "stream",
          "name": "stdout",
          "text": [
            "(4.534070134162903, -7.047073751209609e-07, 23)\n"
          ]
        }
      ]
    },
    {
      "cell_type": "code",
      "metadata": {
        "deletable": false,
        "editable": false,
        "nbgrader": {
          "cell_type": "code",
          "checksum": "245f74804add47d7a569230c5677fb0a",
          "grade": true,
          "grade_id": "cell-f6cf91ed5dd1736b",
          "locked": true,
          "points": 0,
          "schema_version": 3,
          "solution": false
        },
        "id": "gSk-LEC2rzok"
      },
      "source": [
        "# Test with max_it = 30\n",
        "x, f, num_it = compute_root(my_f, x0=3, x1=6, tol=1.0e-6, max_it=30)\n",
        "\n",
        "# Test with max_it = 20\n",
        "with pytest.raises(RuntimeError):\n",
        "    x, f, num_it = compute_root(my_f, x0=3, x1=6, tol=1.0e-6, max_it=20)"
      ],
      "execution_count": null,
      "outputs": []
    }
  ]
}