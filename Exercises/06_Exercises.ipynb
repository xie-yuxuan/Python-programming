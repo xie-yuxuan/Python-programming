{
  "nbformat": 4,
  "nbformat_minor": 0,
  "metadata": {
    "kernelspec": {
      "display_name": "Python 3",
      "language": "python",
      "name": "python3"
    },
    "language_info": {
      "codemirror_mode": {
        "name": "ipython",
        "version": 3
      },
      "file_extension": ".py",
      "mimetype": "text/x-python",
      "name": "python",
      "nbconvert_exporter": "python",
      "pygments_lexer": "ipython3",
      "version": "3.8.5"
    },
    "colab": {
      "name": "Copy of 06 Exercises.ipynb",
      "provenance": [],
      "collapsed_sections": []
    }
  },
  "cells": [
    {
      "cell_type": "markdown",
      "metadata": {
        "deletable": false,
        "editable": false,
        "nbgrader": {
          "cell_type": "markdown",
          "checksum": "8969a6543eebd1c7db89a71bb75e61ee",
          "grade": false,
          "grade_id": "cell-7b3313f25bceb7a2",
          "locked": true,
          "schema_version": 3,
          "solution": false
        },
        "id": "78eglVA4Tkah"
      },
      "source": [
        "## Exercise 06.1 (selecting and passing data structures)\n",
        "\n",
        "The task in Exercise 04 for computing the area of a triangle involved a function with six arguments ($x$ and $y$ components of each vertex). With six arguments, the likelihood of a user passing arguments in the wrong order is high. \n",
        "\n",
        "Use an appropriate data structure, e.g. a `list`, `tuple`, `dict`, etc,  to develop a new version of the function with a simpler interface (the interface is the arguments that are passed to the function). Add appropriate checks inside your function to validate the input data."
      ]
    },
    {
      "cell_type": "code",
      "metadata": {
        "deletable": false,
        "nbgrader": {
          "cell_type": "code",
          "checksum": "93c53f411edb621595bc865f6c79cbaf",
          "grade": false,
          "grade_id": "cell-50c4566d7bcbffaf",
          "locked": false,
          "schema_version": 3,
          "solution": true
        },
        "id": "mnXmT7r0Tkan",
        "colab": {
          "base_uri": "https://localhost:8080/"
        },
        "outputId": "c9ffaf07-4926-4aa0-e42e-97b5b0a73b80"
      },
      "source": [
        "# def area(x0, y0, x1, y1, x2, y2):\n",
        "#     return abs((x0*(y1-y2)+x1*(y2-y0)+x2*(y0-y1))/2)\n",
        "\n",
        "# a = [x0, y0]\n",
        "# b = [x1, y1]\n",
        "# c = [x2, y2]\n",
        "\n",
        "vert1 = [0, 0]\n",
        "vert2 = [0, 2]\n",
        "vert3 = [3, 0]\n",
        "\n",
        "def area(a, b, c):\n",
        "    if len(a) != 2 and len(b) == 2 and len(c) == 2:\n",
        "        return \"Please ensure vert1 has exactly 2 coordinates, x and y.\"\n",
        "    elif len(a) == 2 and len(b) != 2 and len(c) == 2:\n",
        "        return \"Please ensure vert2 has exactly 2 coordinates, x and y.\"\n",
        "    elif len(a) == 2 and len(b) == 2 and len(c) != 2:\n",
        "        return \"Please ensure vert3 has exactly 2 coordinates, x and y.\"\n",
        "    else:\n",
        "        return abs((a[0]*(b[1]-c[1])+b[0]*(c[1]-a[1])+c[0]*(a[1]-b[1]))/2)\n",
        "\n",
        "print(area(vert1, vert2, vert3))"
      ],
      "execution_count": null,
      "outputs": [
        {
          "output_type": "stream",
          "name": "stdout",
          "text": [
            "3.0\n"
          ]
        }
      ]
    },
    {
      "cell_type": "markdown",
      "metadata": {
        "deletable": false,
        "editable": false,
        "nbgrader": {
          "cell_type": "markdown",
          "checksum": "538793e1776653182d193a7700588461",
          "grade": false,
          "grade_id": "cell-5065052af9989fdf",
          "locked": true,
          "schema_version": 3,
          "solution": false
        },
        "id": "nMoyCfX4Tkao"
      },
      "source": [
        "## Exercise 06.2 (selecting data structures)\n",
        "\n",
        "For a simple (non-intersecting) polygon with $n$ vertices, $(x_0, y_0)$, $(x_1, y_1)$, . . , $(x_{n-1}, y_{n-1})$, the area $A$ is given by\n",
        "$$\n",
        "A = \\left| \\frac{1}{2} \\sum_{i=0}^{n-1} \\left(x_{i} y _{i+1} - x_{i+1} y_{i} \\right) \\right|\n",
        "$$\n",
        "and where $(x_n, y_n) = (x_0, y_0)$. The vertices should be ordered as you move around the polygon.\n",
        "\n",
        "Write a function that computes the area of a simple polygon with an arbitrary number of vertices. Test your function for some simple shapes. Pay careful attention to the range of any loops."
      ]
    },
    {
      "cell_type": "code",
      "metadata": {
        "deletable": false,
        "nbgrader": {
          "cell_type": "code",
          "checksum": "3c6fe94718310475d875ec60534199eb",
          "grade": false,
          "grade_id": "cell-4b5a619405787746",
          "locked": false,
          "schema_version": 3,
          "solution": true
        },
        "id": "sqqdWPjpTkap",
        "colab": {
          "base_uri": "https://localhost:8080/"
        },
        "outputId": "29467f80-aae8-48eb-bdd8-5cf0a0a4e3fb"
      },
      "source": [
        "#vert = [[x0, y0],\n",
        "#        [x1, y1],\n",
        "#        [x2, y2],\n",
        "#        [x3, y3]]\n",
        "vert = [[1, 1],\n",
        "        [1, 2],\n",
        "        [2, 2],\n",
        "        [2, 1]]\n",
        "\n",
        "def area(n):\n",
        "    A = 0\n",
        "    if n == len(vert):\n",
        "        for i in range(n):\n",
        "            #i=0 to i=n-1\n",
        "            if i != n-1:\n",
        "                A += (vert[i][0])*(vert[i+1][1])-(vert[i+1][0])*(vert[i][1])\n",
        "            else:\n",
        "                A += (vert[i][0])*(vert[0][1])-(vert[0][0])*(vert[i][1])\n",
        "        return 0.5*abs(A)\n",
        "    elif n > len(vert):\n",
        "        print(\"Please provide sufficient number of vertices\")\n",
        "    else:\n",
        "        print(\"The number of vertices provided is more than the number you have specified\")\n",
        "\n",
        "\n",
        "area(4)"
      ],
      "execution_count": null,
      "outputs": [
        {
          "output_type": "execute_result",
          "data": {
            "text/plain": [
              "1.0"
            ]
          },
          "metadata": {},
          "execution_count": 6
        }
      ]
    },
    {
      "cell_type": "markdown",
      "metadata": {
        "deletable": false,
        "editable": false,
        "nbgrader": {
          "cell_type": "markdown",
          "checksum": "31a71dcd54f996f2f798df30114b9faf",
          "grade": false,
          "grade_id": "cell-ced99a38c7bbe7a0",
          "locked": true,
          "schema_version": 3,
          "solution": false
        },
        "id": "pDP1Zx39Tkap"
      },
      "source": [
        "## Exercise 06.3 (indexing)\n",
        "\n",
        "Write a function that uses list indexing to add two vectors of arbitrary length, and returns the new vector. Include a check that the vector sizes match, and print a warning message if there is a size mismatch. The more error information you provide, the easier it would be for someone using your function to debug their code.\n",
        "\n",
        "Add some tests of your code.\n",
        "\n",
        "#### Hint: You can create a list of zeros of length `n` by\n",
        "\n",
        "    z = [0]*n\n",
        "    \n",
        "#### Optional (advanced) \n",
        "\n",
        "Try writing a one-line version of this operation using list comprehension and the built-in function [`zip`](https://docs.python.org/3/library/functions.html#zip)."
      ]
    },
    {
      "cell_type": "code",
      "metadata": {
        "deletable": false,
        "nbgrader": {
          "cell_type": "code",
          "checksum": "66ea7d534bb1cbabf82dbcbb69e4dd02",
          "grade": false,
          "grade_id": "cell-47daca03f7a96b62",
          "locked": false,
          "schema_version": 3,
          "solution": true
        },
        "id": "iTWpEfeFTkaq"
      },
      "source": [
        "def sum_vector(x, y):\n",
        "    \"Return sum of two vectors\"\n",
        "    new_vector = []\n",
        "    if len(x) == len(y):\n",
        "        for i in range(len(x)):\n",
        "          new_vector.append((x[i]+y[i]))\n",
        "        return new_vector\n",
        "    else:\n",
        "        return \"size mismatch\""
      ],
      "execution_count": null,
      "outputs": []
    },
    {
      "cell_type": "code",
      "metadata": {
        "deletable": false,
        "editable": false,
        "nbgrader": {
          "cell_type": "code",
          "checksum": "9b3d802cdb7440be47952667335f5cc7",
          "grade": true,
          "grade_id": "cell-95f5819810d2b2c7",
          "locked": true,
          "points": 0,
          "schema_version": 3,
          "solution": false
        },
        "id": "iK96A7FpTkaq"
      },
      "source": [
        "a = [0, 4.3, -5, 7]\n",
        "b = [-2, 7, -15, 1]\n",
        "c = sum_vector(a, b)\n",
        "assert c == [-2, 11.3, -20, 8]"
      ],
      "execution_count": null,
      "outputs": []
    },
    {
      "cell_type": "code",
      "metadata": {
        "id": "FYJicXHdbExd"
      },
      "source": [
        "# a = [1, 2, 3]\n",
        "# b = [4, 6, 8]\n",
        "# c = [5, 8, 11]\n",
        "\n",
        "c = []\n",
        "a = \"test\"\n",
        "c.append(a)\n",
        "\n",
        "def sum_vector(a, b):\n",
        "  c = [1, 3, 5, 23, 4 6, 7, 8 ...... 98]\n",
        "  for i in \n",
        "  c[0]=a[0]+b[0]\n",
        "\n",
        "  return c\n"
      ],
      "execution_count": null,
      "outputs": []
    },
    {
      "cell_type": "markdown",
      "metadata": {
        "id": "TRhqPzuMTkar"
      },
      "source": [
        "### Extension: list comprehension"
      ]
    },
    {
      "cell_type": "code",
      "metadata": {
        "deletable": false,
        "nbgrader": {
          "cell_type": "code",
          "checksum": "3ace0d343b7871c30f7776e20669bf3e",
          "grade": true,
          "grade_id": "cell-c182b3f0d8952692",
          "locked": false,
          "points": 0,
          "schema_version": 3,
          "solution": true
        },
        "id": "FplkqkflTkas"
      },
      "source": [
        "# YOUR CODE HERE\n",
        "raise NotImplementedError()"
      ],
      "execution_count": null,
      "outputs": []
    },
    {
      "cell_type": "markdown",
      "metadata": {
        "id": "KXGzaIb1Tkas"
      },
      "source": [
        "## Exercise 06.4 (dictionaries)\n",
        "\n",
        "Create a dictionary that maps college names (the key) to college abbreviations for at least 5 colleges\n",
        "(you can find abbreviations at https://en.wikipedia.org/wiki/Colleges_of_the_University_of_Cambridge#Colleges).\n",
        "From the dictionary, produce and print\n",
        "\n",
        "1. A dictionary from college abbreviation to name; and\n",
        "1. A list of college abbreviations sorted into alphabetical order.\n",
        "\n",
        "*Optional extension:* Create a dictionary that maps college names (the key) to dictionaries of:\n",
        "\n",
        "- College abbreviation\n",
        "- Year of foundation \n",
        "- Total number students\n",
        " \n",
        "for at least 5 colleges. Take the data from https://en.wikipedia.org/wiki/Colleges_of_the_University_of_Cambridge#Colleges. Using this dictionary, \n",
        "\n",
        "1. Find the college with the greatest number of students and print the abbreviation; and \n",
        "2. Find the oldest college, and print the number of students and the abbreviation for this college."
      ]
    },
    {
      "cell_type": "code",
      "metadata": {
        "deletable": false,
        "nbgrader": {
          "cell_type": "code",
          "checksum": "892cc4fd98d0f8cc393eff925b5d6b13",
          "grade": false,
          "grade_id": "cell-bc271dc3885e19c5",
          "locked": false,
          "schema_version": 3,
          "solution": true
        },
        "id": "X5F31lfRTkat",
        "colab": {
          "base_uri": "https://localhost:8080/"
        },
        "outputId": "a8a06f28-6f49-474f-b861-4082029e69f6"
      },
      "source": [
        "name_abb = {\"Emmanuel\":\"EM\",\n",
        "            \"Chuchill\":\"CHU\",\n",
        "            \"Clare\":\"CL\",\n",
        "            \"Darwin\":\"DAR\",\n",
        "            \"Downing\":\"DOW\"}\n",
        "print(name_abb)\n",
        "\n",
        "abb_name = dict((i, j) for j, i in name_abb.items())\n",
        "print(abb_name)\n",
        "  \n",
        "list = []\n",
        "for x in name_abb:\n",
        "  list.append(name_abb[x])\n",
        "  list.sort()\n",
        "print(list)"
      ],
      "execution_count": null,
      "outputs": [
        {
          "output_type": "stream",
          "name": "stdout",
          "text": [
            "{'Emmanuel': 'EM', 'Chuchill': 'CHU', 'Clare': 'CL', 'Darwin': 'DAR', 'Downing': 'DOW'}\n",
            "{'EM': 'Emmanuel', 'CHU': 'Chuchill', 'CL': 'Clare', 'DAR': 'Darwin', 'DOW': 'Downing'}\n",
            "['CHU', 'CL', 'DAR', 'DOW', 'EM']\n"
          ]
        }
      ]
    },
    {
      "cell_type": "markdown",
      "metadata": {
        "deletable": false,
        "editable": false,
        "nbgrader": {
          "cell_type": "markdown",
          "checksum": "ee373920fe2377cf230967db220ba75a",
          "grade": false,
          "grade_id": "cell-45d2551a524193b0",
          "locked": true,
          "schema_version": 3,
          "solution": false
        },
        "id": "4DFHiLjUTkau"
      },
      "source": [
        "#### Optional extension"
      ]
    },
    {
      "cell_type": "code",
      "metadata": {
        "deletable": false,
        "nbgrader": {
          "cell_type": "code",
          "checksum": "683b2dc107d00c494b6c163c5ab6cfa8",
          "grade": false,
          "grade_id": "cell-7040c4053c72ce09",
          "locked": false,
          "schema_version": 3,
          "solution": true
        },
        "id": "-e80Rp-OTkau"
      },
      "source": [
        "# YOUR CODE HERE\n",
        "raise NotImplementedError()"
      ],
      "execution_count": null,
      "outputs": []
    }
  ]
}