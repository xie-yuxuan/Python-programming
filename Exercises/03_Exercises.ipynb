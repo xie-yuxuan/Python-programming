{
  "nbformat": 4,
  "nbformat_minor": 0,
  "metadata": {
    "kernelspec": {
      "display_name": "Python 3",
      "language": "python",
      "name": "python3"
    },
    "language_info": {
      "codemirror_mode": {
        "name": "ipython",
        "version": 3
      },
      "file_extension": ".py",
      "mimetype": "text/x-python",
      "name": "python",
      "nbconvert_exporter": "python",
      "pygments_lexer": "ipython3",
      "version": "3.8.5"
    },
    "colab": {
      "name": "Copy of 03 Exercises.ipynb",
      "provenance": []
    }
  },
  "cells": [
    {
      "cell_type": "markdown",
      "metadata": {
        "deletable": false,
        "editable": false,
        "nbgrader": {
          "cell_type": "markdown",
          "checksum": "8ceeabcb46de5ad626384fc60e218d16",
          "grade": false,
          "grade_id": "cell-bccc9a5624d0e0f9",
          "locked": true,
          "schema_version": 3,
          "solution": false
        },
        "id": "wrjOjVd9uson"
      },
      "source": [
        "## Exercise 03.1\n",
        "\n",
        "Compare the computed values of \n",
        "\n",
        "$$ \n",
        "d_0 = a \\cdot b + a  \\cdot  c\n",
        "$$\n",
        "\n",
        "and \n",
        "\n",
        "$$ \n",
        "d_1 = a \\cdot (b + c)\n",
        "$$\n",
        "\n",
        "when $a = 100$, $b = 0.1$ and $c = 0.2$. Store $d_{0}$ in the variable `d0` and $d_{1}$ in the variable `d1`.\n",
        "\n",
        "\n",
        "Try checking for equality, e.g. `print(d0 == d1)`. "
      ]
    },
    {
      "cell_type": "code",
      "metadata": {
        "deletable": false,
        "nbgrader": {
          "cell_type": "code",
          "checksum": "30e30b82e08f44a2f3f834314203be69",
          "grade": false,
          "grade_id": "cell-447110c225124fc4",
          "locked": false,
          "schema_version": 3,
          "solution": true
        },
        "id": "7R5LCT9Yusos",
        "colab": {
          "base_uri": "https://localhost:8080/"
        },
        "outputId": "e08a7754-282d-4a58-b51f-7abe39ad1d4d"
      },
      "source": [
        "a = 100\n",
        "b = 0.1\n",
        "c = 0.2\n",
        "d0 = a*b + a*c\n",
        "d1 = a*(b+c)\n",
        "print(d0 == d1)"
      ],
      "execution_count": null,
      "outputs": [
        {
          "output_type": "stream",
          "name": "stdout",
          "text": [
            "False\n"
          ]
        }
      ]
    },
    {
      "cell_type": "code",
      "metadata": {
        "deletable": false,
        "editable": false,
        "nbgrader": {
          "cell_type": "code",
          "checksum": "56a58c181d43d8dbad56dff6ed45377a",
          "grade": true,
          "grade_id": "cell-91f2d89d88ea86c0",
          "locked": true,
          "points": 0,
          "schema_version": 3,
          "solution": false
        },
        "id": "KSWpUGyausot"
      },
      "source": [
        "assert d0 == 30.0\n",
        "assert d1 != 30.0\n",
        "assert d0 != d1"
      ],
      "execution_count": null,
      "outputs": []
    },
    {
      "cell_type": "markdown",
      "metadata": {
        "id": "evZh7YxJusow"
      },
      "source": [
        "## Exercise 03.2\n",
        "\n",
        "For the polynomial \n",
        "\\begin{align}\n",
        "f(x, y) &= (x + y)^{6} \n",
        "\\\\\n",
        "&=  x^6 + 6x^{5}y + 15x^{4}y^{2} + 20x^{3}y^{3} + 15x^{2}y^{4} + 6xy^{5} + y^{6}\n",
        "\\end{align}\n",
        "compute $f$ using: (i) the compact form $(x + y)^{6}$; and (ii) the expanded form for:\n",
        "\n",
        "(a) $x = 10$ and $y = 10.1$\n",
        "\n",
        "(b) $x = 10$ and $y = -10.1$\n",
        "\n",
        "and compare the number of significant digits for which the answers are the same.\n",
        "Store the answer for the compact version using the variable `f0`, and using the variable `f1` for the expanded version.\n",
        "\n",
        "For case (b), compare the computed and analytical solutions and consider the relative error.\n",
        "Which approach would you recommend for computing this expression?"
      ]
    },
    {
      "cell_type": "markdown",
      "metadata": {
        "id": "b5BWsJ13usox"
      },
      "source": [
        "#### (a) $x = 10$ and $y = 10.1$"
      ]
    },
    {
      "cell_type": "code",
      "metadata": {
        "deletable": false,
        "nbgrader": {
          "cell_type": "code",
          "checksum": "908f40d0d9b9a84a5daeb5f1d2a18a3c",
          "grade": false,
          "grade_id": "cell-e8428e3de87d5500",
          "locked": false,
          "schema_version": 3,
          "solution": true
        },
        "id": "mQ2ICPuFusox",
        "colab": {
          "base_uri": "https://localhost:8080/"
        },
        "outputId": "5b89a5cf-16bb-4404-8531-8c4a8369406b"
      },
      "source": [
        "x = 10.0\n",
        "y = 10.1\n",
        "\n",
        "f0 = (x+y)**6\n",
        "f1 = x**6 + 6*(x**5)*y + 15*(x**4)*(y**2) + 20*(x**3)*(y**3) + 15*(x**2)*(y**4) + 6*x*y**5 + y**6\n",
        "\n",
        "print(f0)\n",
        "print(f1)"
      ],
      "execution_count": null,
      "outputs": [
        {
          "output_type": "stream",
          "name": "stdout",
          "text": [
            "65944160.60120103\n",
            "65944160.601201\n"
          ]
        }
      ]
    },
    {
      "cell_type": "code",
      "metadata": {
        "deletable": false,
        "editable": false,
        "nbgrader": {
          "cell_type": "code",
          "checksum": "a4940106bcc4e616b922050d78981780",
          "grade": true,
          "grade_id": "cell-55d184514edf3a67",
          "locked": true,
          "points": 0,
          "schema_version": 3,
          "solution": false
        },
        "id": "-YhpNyInusoy"
      },
      "source": [
        "import math\n",
        "assert math.isclose(f0, 65944160.60120103, rel_tol=1e-10)\n",
        "assert math.isclose(f1, 65944160.601201, rel_tol=1e-10)"
      ],
      "execution_count": null,
      "outputs": []
    },
    {
      "cell_type": "markdown",
      "metadata": {
        "id": "8G6K4IWYusoz"
      },
      "source": [
        "#### (b) $x = 10$ and $y = -10.1$"
      ]
    },
    {
      "cell_type": "code",
      "metadata": {
        "deletable": false,
        "nbgrader": {
          "cell_type": "code",
          "checksum": "e36a4f376b117817ad05ca02c2bda3c6",
          "grade": false,
          "grade_id": "cell-1561d20281ff67f6",
          "locked": false,
          "schema_version": 3,
          "solution": true
        },
        "id": "3rlVUeKWusoz",
        "colab": {
          "base_uri": "https://localhost:8080/"
        },
        "outputId": "eb77098c-5924-47b5-a5bc-6c2b3fa62c5d"
      },
      "source": [
        "x = 10.0\n",
        "y = -10.1\n",
        "\n",
        "f0 = (x+y)**6\n",
        "f1 = x**6 + 6*(x**5)*y + 15*(x**4)*(y**2) + 20*(x**3)*(y**3) + 15*(x**2)*(y**4) + 6*x*y**5 + y**6\n",
        "\n",
        "print(f0)\n",
        "print(f1)\n",
        "\n",
        "#compact form is closer to actual answer"
      ],
      "execution_count": null,
      "outputs": [
        {
          "output_type": "stream",
          "name": "stdout",
          "text": [
            "9.999999999999788e-07\n",
            "9.958166629076004e-07\n"
          ]
        }
      ]
    },
    {
      "cell_type": "code",
      "metadata": {
        "id": "RY5X4ZyMuso0"
      },
      "source": [
        "import math\n",
        "assert math.isclose(f0, 1.0e-6, rel_tol=1e-10)\n",
        "assert math.isclose(f1, 1.0e-6, rel_tol=1e-2)"
      ],
      "execution_count": null,
      "outputs": []
    },
    {
      "cell_type": "markdown",
      "metadata": {
        "id": "PpH3dUMmuso1"
      },
      "source": [
        "## Exercise 03.3\n",
        "\n",
        "Consider the expression\n",
        "\n",
        "$$\n",
        "f = \\frac{1}{\\sqrt{x^2 - 1} - x}\n",
        "$$\n",
        "\n",
        "When $x$ is very large, the denominator approaches zero, which can cause problems.\n",
        "\n",
        "Try rephrasing the problem and eliminating the fraction by multiplying the numerator and denominator by $\\sqrt{x^2 - 1} + x$ and evaluate the two versions of the expression when:\n",
        "\n",
        "(a) $x = 1 \\times 10^{7}$\n",
        "\n",
        "(b) $x = 1 \\times 10^{9}$ (You may get a Python error for this case. Why?)"
      ]
    },
    {
      "cell_type": "markdown",
      "metadata": {
        "deletable": false,
        "editable": false,
        "nbgrader": {
          "cell_type": "markdown",
          "checksum": "c09b66f37bdee28ed52c52b6017f2cf2",
          "grade": false,
          "grade_id": "cell-53e1abf388eedabe",
          "locked": true,
          "schema_version": 3,
          "solution": false
        },
        "id": "aT8o9BBQuso1"
      },
      "source": [
        "#### (a) $x = 1 \\times 10^{7}$"
      ]
    },
    {
      "cell_type": "code",
      "metadata": {
        "deletable": false,
        "nbgrader": {
          "cell_type": "code",
          "checksum": "07ff77b706b18c392edfb815685a3bc3",
          "grade": true,
          "grade_id": "cell-149ac8791e7ff020",
          "locked": false,
          "points": 0,
          "schema_version": 3,
          "solution": true
        },
        "id": "41nB7aQZuso1",
        "colab": {
          "base_uri": "https://localhost:8080/"
        },
        "outputId": "30fc112f-dfef-4701-9689-3e38796da6e6"
      },
      "source": [
        "import math\n",
        "\n",
        "x = 1e7\n",
        "f = -math.sqrt(x**2 - 1) - x\n",
        "print(f)"
      ],
      "execution_count": null,
      "outputs": [
        {
          "output_type": "stream",
          "name": "stdout",
          "text": [
            "-19999999.999999948\n"
          ]
        }
      ]
    },
    {
      "cell_type": "markdown",
      "metadata": {
        "deletable": false,
        "editable": false,
        "nbgrader": {
          "cell_type": "markdown",
          "checksum": "c2132f7f9da6593c6536e19435aeeab7",
          "grade": false,
          "grade_id": "cell-bcc863a1c5c8a6f8",
          "locked": true,
          "schema_version": 3,
          "solution": false
        },
        "id": "H7-OzrM1uso2"
      },
      "source": [
        "#### (b) $x = 1 \\times 10^{9}$"
      ]
    },
    {
      "cell_type": "code",
      "metadata": {
        "deletable": false,
        "nbgrader": {
          "cell_type": "code",
          "checksum": "c2e05e9fd5ffdd3901355b52c90169ba",
          "grade": true,
          "grade_id": "cell-4ef986ef1f5838ba",
          "locked": false,
          "points": 0,
          "schema_version": 3,
          "solution": true
        },
        "id": "mixT3n8suso2",
        "colab": {
          "base_uri": "https://localhost:8080/"
        },
        "outputId": "188be9ec-ddce-41ce-8b7b-3c1238a1d742"
      },
      "source": [
        "import math\n",
        "\n",
        "x = 1e9\n",
        "f = -math.sqrt(x**2 - 1) - x\n",
        "print(f)"
      ],
      "execution_count": null,
      "outputs": [
        {
          "output_type": "stream",
          "name": "stdout",
          "text": [
            "-2000000000.0\n"
          ]
        }
      ]
    }
  ]
}