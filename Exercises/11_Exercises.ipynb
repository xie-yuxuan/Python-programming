{
  "nbformat": 4,
  "nbformat_minor": 0,
  "metadata": {
    "kernelspec": {
      "display_name": "Python 3",
      "language": "python",
      "name": "python3"
    },
    "language_info": {
      "codemirror_mode": {
        "name": "ipython",
        "version": 3
      },
      "file_extension": ".py",
      "mimetype": "text/x-python",
      "name": "python",
      "nbconvert_exporter": "python",
      "pygments_lexer": "ipython3",
      "version": "3.8.5"
    },
    "colab": {
      "name": "Copy of 11 Exercises.ipynb",
      "provenance": []
    }
  },
  "cells": [
    {
      "cell_type": "markdown",
      "metadata": {
        "id": "j4VNEFUFdP-2"
      },
      "source": [
        "Import the modules that will be used."
      ]
    },
    {
      "cell_type": "code",
      "metadata": {
        "id": "7kejJztpdP-8"
      },
      "source": [
        "import numpy as np\n",
        "import matplotlib\n",
        "import matplotlib.pyplot as plt\n",
        "\n",
        "%matplotlib inline"
      ],
      "execution_count": null,
      "outputs": []
    },
    {
      "cell_type": "markdown",
      "metadata": {
        "deletable": false,
        "editable": false,
        "nbgrader": {
          "cell_type": "markdown",
          "checksum": "1edc226b40602fb86b89bc96c778bd2e",
          "grade": false,
          "grade_id": "cell-f3291e5d760308db",
          "locked": true,
          "schema_version": 3,
          "solution": false
        },
        "id": "Z7WyicM6dP-_"
      },
      "source": [
        "## Exercise 11.1\n",
        "\n",
        "Determine by counting the number of mathematical operations the complexity of:\n",
        "\n",
        "1. Dot product between two vectors\n",
        "1. Matrix-vector product\n",
        "1. Matrix-matrix product\n",
        "\n",
        "for vectors of length $n$ and matrices of size $n \\times n$.\n",
        "\n",
        "This is a reasoning exercise - you do not need to write a program. Express your answers in text and using LaTeX in a Markdown cell.\n",
        "\n",
        "\n",
        "### Optional\n",
        "\n",
        "Test the complexity experimentally with your own functions for performing the operations, and\n",
        "with the NumPy 'vectorised' equivalents."
      ]
    },
    {
      "cell_type": "markdown",
      "metadata": {
        "deletable": false,
        "nbgrader": {
          "cell_type": "markdown",
          "checksum": "62a921e42154198d66dc82641af170e2",
          "grade": true,
          "grade_id": "cell-8460df1e09d7f0e7",
          "locked": false,
          "points": 0,
          "schema_version": 3,
          "solution": true
        },
        "id": "TZucQLNVdP-_"
      },
      "source": [
        "1. If the vectors are on length n. \n",
        "\n",
        "\\begin{align}\n",
        "  \\begin{bmatrix}\n",
        "      a_{1} \\\\\n",
        "      a_{2} \\\\\n",
        "      \\vdots \\\\\n",
        "      a_{n}\n",
        "    \\end{bmatrix}\n",
        "  \\cdot\n",
        "  \\begin{bmatrix}\n",
        "      b_{1} \\\\\n",
        "      b_{2} \\\\\n",
        "      \\vdots \\\\\n",
        "      b_{n}\n",
        "    \\end{bmatrix}\n",
        "  =a_1b_1 + a_2b_2 + ... + a_nb_n\n",
        "\\end{align}\n",
        "\n",
        "The cost of the operation $a_1b_1$ is $O(1)$. This is performed n times, so overall the complexity is $O(n)$.\n",
        "\n",
        "2. Matrix-vector product\n",
        "\n",
        "\\begin{align}\n",
        "  \\begin{bmatrix} \n",
        "      a_{1} & \\dots & a_{n} \\\\\n",
        "      \\vdots & \\ddots & \\\\\n",
        "      a_{n} &        & a_{nn} \n",
        "  \\end{bmatrix}\n",
        "  \\begin{bmatrix}\n",
        "      b_{1} \\\\\n",
        "      b_{2} \\\\\n",
        "      \\vdots \\\\\n",
        "      b_{n}\n",
        "  \\end{bmatrix}\n",
        "  =\n",
        "  \\begin{bmatrix}\n",
        "      a_1b_1 + a_2b_2 ... a_nb_n \\\\\n",
        "      a_2b_1 + a_3b_2 ... a_{n1}b_n \\\\\n",
        "      \\vdots \\\\\n",
        "      a_nb_1+a_{n1}b_2 ... a_{nn}b_n\n",
        "  \\end{bmatrix}  \n",
        "\\end{align}\n",
        "\n",
        "The cost of the operation $a_1b_1$ is $O(1)$. For the first row, this is performed n times, so overall the cost for one row is $O(n)$. There are n columns, and each column has a compliexity of $O(n)$, so the overall complexity is $O(n^2)$.\n",
        "\n",
        "3. Matrix-matrix product\n",
        "\n",
        "\\begin{align}\n",
        "  \\begin{bmatrix} \n",
        "      a_{1} & \\dots & a_{n} \\\\\n",
        "      \\vdots & \\ddots & \\\\\n",
        "      a_{n} &        & a_{nn} \n",
        "  \\end{bmatrix}\n",
        "  \\begin{bmatrix} \n",
        "      b_{1} & \\dots & b_{n} \\\\\n",
        "      \\vdots & \\ddots & \\\\\n",
        "      b_{n} &        & b_{nn} \n",
        "  \\end{bmatrix}\n",
        "\\end{align}\n",
        "\n",
        "The cost of the operation $a_1b_1$ is $O(1)$. The element in the first row and first column of the result is given as $a_1b_1+a_2b_2+...+a_nb_n$. This element requires the operation $a_1b_2$ to be performed n times, so the cost of one element is $O(n)$. There are n elements in each row so the cost of one row is $O(n^2)$. There are n columns so the overall complexity is $O(n^3)$."
      ]
    },
    {
      "cell_type": "markdown",
      "metadata": {
        "id": "oWY6iVsxdP_A"
      },
      "source": [
        "## Exercise 11.2\n",
        "\n",
        "For the recursive factorial algorithm in Activity 04, determine the algorithmic complexity by inspecting your implementation of the algorithm. Test this against numerical experiments."
      ]
    },
    {
      "cell_type": "markdown",
      "metadata": {
        "id": "0u3gUCO2dP_A"
      },
      "source": [
        "### Solution"
      ]
    },
    {
      "cell_type": "markdown",
      "metadata": {
        "id": "dXO7dDs0dP_B"
      },
      "source": [
        "Recall the factorial algorithm from Activity 04.4:"
      ]
    },
    {
      "cell_type": "code",
      "metadata": {
        "id": "9QAp8m7hdP_B"
      },
      "source": [
        "def factorial(n):\n",
        "    if n == 0:\n",
        "        return 1\n",
        "    else:\n",
        "        return factorial(n - 1)*n"
      ],
      "execution_count": null,
      "outputs": []
    },
    {
      "cell_type": "markdown",
      "metadata": {
        "id": "peITLg4YdP_C"
      },
      "source": [
        "The function calls itself (recursively) $n$ times, hence it has complexity $O(n)$. We test this below and plot\n",
        "the times."
      ]
    },
    {
      "cell_type": "code",
      "metadata": {
        "deletable": false,
        "nbgrader": {
          "cell_type": "code",
          "checksum": "ac9c61aee9ad5e1348d3b3892814724e",
          "grade": false,
          "grade_id": "cell-99456b1178be2bfe",
          "locked": false,
          "schema_version": 3,
          "solution": true
        },
        "id": "Oe5PAb2udP_D",
        "colab": {
          "base_uri": "https://localhost:8080/",
          "height": 283
        },
        "outputId": "39653eb9-7db0-44de-eb15-44d5f737e6bd"
      },
      "source": [
        "import numpy as np\n",
        "import matplotlib.pyplot as plt\n",
        "\n",
        "# Create array of problem sizes n we want to test (powers of 2)\n",
        "N = 2**np.arange(2, 5)\n",
        "\n",
        "# Initialise an empty array to stores times for plotting\n",
        "times = []\n",
        "\n",
        "# Time the search for each problem size\n",
        "for n in N:\n",
        "\n",
        "    # Time search function\n",
        "    t = %timeit -q -n4 -r1 -o factorial(n)\n",
        "\n",
        "    # Store best case time\n",
        "    times.append(t.best)\n",
        "\n",
        "# Plot and label the time taken for factorial\n",
        "plt.loglog(N, times, marker='o', label='factorial')\n",
        "plt.xlabel('$n$')\n",
        "plt.ylabel('$t$ (s)')\n",
        "\n",
        "# Show a reference line of O(n)\n",
        "plt.loglog(N, 1e-6*N, label='$O(n)$')\n",
        "\n",
        "# Add legend\n",
        "plt.legend(loc=0)\n",
        "\n",
        "plt.show()"
      ],
      "execution_count": null,
      "outputs": [
        {
          "output_type": "display_data",
          "data": {
            "image/png": "[encoded data removed]",
            "text/plain": [
              "<Figure size 432x288 with 1 Axes>"
            ]
          },
          "metadata": {
            "needs_background": "light"
          }
        }
      ]
    },
    {
      "cell_type": "markdown",
      "metadata": {
        "id": "xX4UIKuldP_E"
      },
      "source": [
        "## Exercise 11.3\n",
        "\n",
        "Determine experimentally the complexity of computing the determinant of a matrix. You can generate an $n \\times n$ matrix using:"
      ]
    },
    {
      "cell_type": "code",
      "metadata": {
        "id": "0S2D0qO4dP_E"
      },
      "source": [
        "n = 100\n",
        "A = np.random.rand(n, n)"
      ],
      "execution_count": null,
      "outputs": []
    },
    {
      "cell_type": "markdown",
      "metadata": {
        "id": "RDTv-tJRdP_F"
      },
      "source": [
        "and the determinant can be computed by:"
      ]
    },
    {
      "cell_type": "code",
      "metadata": {
        "id": "fCusa3g3dP_N"
      },
      "source": [
        "det = np.linalg.slogdet(A)"
      ],
      "execution_count": null,
      "outputs": []
    },
    {
      "cell_type": "markdown",
      "metadata": {
        "id": "3QrqfRC5dP_O"
      },
      "source": [
        "Be sure that you test for sufficiently large $n$ to get into the 'large' $n$ regime."
      ]
    },
    {
      "cell_type": "markdown",
      "metadata": {
        "id": "Hz44ZY9PdP_O"
      },
      "source": [
        "### Solution"
      ]
    },
    {
      "cell_type": "markdown",
      "metadata": {
        "id": "pduSxoMUdP_O"
      },
      "source": [
        "Time computation of determinant:"
      ]
    },
    {
      "cell_type": "code",
      "metadata": {
        "deletable": false,
        "nbgrader": {
          "cell_type": "code",
          "checksum": "0b0d621ce3dc60bcd922f628646b0329",
          "grade": false,
          "grade_id": "cell-64f74c9716976d38",
          "locked": false,
          "schema_version": 3,
          "solution": true
        },
        "id": "kACQKpwYdP_P"
      },
      "source": [
        "import numpy as np\n",
        "import matplotlib.pyplot as plt\n",
        "\n",
        "# Create array of problem sizes n we want to test (powers of 2)\n",
        "N = 2**np.arange(2, 13)\n",
        "\n",
        "def determinant(n):\n",
        "  matrix = np.random.rand(n, n)\n",
        "  return np.linalg.slogdet(matrix)\n",
        "\n",
        "# Initialise an empty array to stores times for plotting\n",
        "times = []\n",
        "\n",
        "for n in N:\n",
        "\n",
        "  # Time search function\n",
        "  t = %timeit -q -n4 -r1 -o determinant(n)\n",
        "\n",
        "  # Store best case time\n",
        "  times.append(t.best)"
      ],
      "execution_count": null,
      "outputs": []
    },
    {
      "cell_type": "markdown",
      "metadata": {
        "id": "U8scPGeOdP_P"
      },
      "source": [
        "Plot result:"
      ]
    },
    {
      "cell_type": "code",
      "metadata": {
        "deletable": false,
        "nbgrader": {
          "cell_type": "code",
          "checksum": "3f6362a9a7dc358b5987cd42aff7d063",
          "grade": false,
          "grade_id": "cell-4e4b2cc52b08f077",
          "locked": false,
          "schema_version": 3,
          "solution": true
        },
        "id": "YkJ0322_dP_P",
        "colab": {
          "base_uri": "https://localhost:8080/",
          "height": 283
        },
        "outputId": "d741bb86-845f-4e68-c9e0-a20db16bf050"
      },
      "source": [
        "# Plot and label the time taken for factorial\n",
        "plt.loglog(N, times, marker='o', label='matrix det')\n",
        "\n",
        "# Show reference lines of O(n*log(n)), O(n^2), O(n)\n",
        "plt.loglog(N, 1e-6*N*np.log(N), '--', label=r'$O(n\\log n)$')\n",
        "plt.loglog(N, 1e-6*N**2, '--', label=r'$O(n^2$)')\n",
        "plt.loglog(N, 1e-6*N, label='$O(n)$')\n",
        "\n",
        "# Show legend\n",
        "plt.legend(loc=0);\n",
        "\n",
        "# Add label and legend\n",
        "plt.xlabel('$n$')\n",
        "plt.ylabel('$t$ (s)')\n",
        "\n",
        "plt.show()"
      ],
      "execution_count": null,
      "outputs": [
        {
          "output_type": "display_data",
          "data": {
            "image/png": "[encoded data removed]",
            "text/plain": [
              "<Figure size 432x288 with 1 Axes>"
            ]
          },
          "metadata": {
            "needs_background": "light"
          }
        }
      ]
    }
  ]
}